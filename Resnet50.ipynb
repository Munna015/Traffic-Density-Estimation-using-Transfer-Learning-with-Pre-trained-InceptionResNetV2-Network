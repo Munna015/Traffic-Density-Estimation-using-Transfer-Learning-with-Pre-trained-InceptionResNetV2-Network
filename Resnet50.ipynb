{
  "nbformat": 4,
  "nbformat_minor": 0,
  "metadata": {
    "accelerator": "GPU",
    "colab": {
      "name": "Resnet50.ipynb",
      "provenance": [],
      "collapsed_sections": []
    },
    "kernelspec": {
      "display_name": "Python 3",
      "name": "python3"
    },
    "language_info": {
      "name": "python"
    }
  },
  "cells": [
    {
      "cell_type": "code",
      "metadata": {
        "colab": {
          "base_uri": "https://localhost:8080/"
        },
        "id": "zauSbQddiqJC",
        "outputId": "91fb605b-4e56-41fc-c5f1-fbbc7eb85396"
      },
      "source": [
        "from google.colab import drive\n",
        "drive.mount('/content/drive')"
      ],
      "execution_count": null,
      "outputs": [
        {
          "output_type": "stream",
          "text": [
            "Mounted at /content/drive\n"
          ],
          "name": "stdout"
        }
      ]
    },
    {
      "cell_type": "code",
      "metadata": {
        "colab": {
          "base_uri": "https://localhost:8080/"
        },
        "id": "oZN5FnrNi4n4",
        "outputId": "ec76bd8e-e9d7-4ca7-847b-5ad4b21d23cf"
      },
      "source": [
        "!ln -s /content/drive/My\\ Drive/ /mydrive\n",
        "!ls /mydrive"
      ],
      "execution_count": null,
      "outputs": [
        {
          "output_type": "stream",
          "text": [
            " 1707008\n",
            " 1707026\n",
            " 1707026.pdf\n",
            " 1707026.zip\n",
            " 1707059\n",
            " 1e93121c-7ed4-4f3b-ac48-93cd4d673968.jpg\n",
            "'2.1 math'\n",
            " 3.1\n",
            " 3.2\n",
            "'Azhar Sir CT'\n",
            "'Bandarban 2021'\n",
            " Classroom\n",
            "'Colab Notebooks'\n",
            "'Compiler Project'\n",
            "'CSE 3212'\n",
            "'CSE 3212 Compiler Design Lab Project Reports 15 June.zip'\n",
            "'CSE 3212 Project Report'\n",
            " dataset\n",
            "'Family Get-together'\n",
            "'Fish n Chips'\n",
            "'Getting started.pdf'\n",
            "'Hum Assignments'\n",
            " IMG_20210101_101719.jpg\n",
            " IMG_20210101_170308.jpg\n",
            " Maruf\n",
            "'MBA Thesis Works'\n",
            "'My Drive'\n",
            " NID.pdf\n",
            "'Rokib Sir Assignment'\n",
            "'saaint martin tour'\n",
            "'season 3'\n",
            " Shafi\n",
            " test\n",
            " WP\n",
            " yolov4\n",
            "'পেদা টিং টিং'\n"
          ],
          "name": "stdout"
        }
      ]
    },
    {
      "cell_type": "code",
      "metadata": {
        "id": "7UM5chFUfI-D"
      },
      "source": [
        "import tensorflow as tf\n",
        "import pandas as pd\n",
        "import matplotlib.pyplot as plt\n",
        "import os\n",
        "import cv2\n",
        "import numpy as np\n",
        "import keras\n",
        "\n",
        "from tensorflow.keras.preprocessing.image import ImageDataGenerator\n",
        "from tensorflow.keras.preprocessing import image\n",
        "from tensorflow.keras.models import Sequential\n",
        "from tensorflow.keras.layers import Conv2D, MaxPooling2D\n",
        "from tensorflow.keras.layers import BatchNormalization\n",
        "from tensorflow.keras.layers import Dropout\n",
        "from tensorflow.keras.layers import Dense, Flatten\n",
        "from tensorflow.keras.optimizers import RMSprop\n",
        "from tensorflow.keras.optimizers import Adam"
      ],
      "execution_count": null,
      "outputs": []
    },
    {
      "cell_type": "code",
      "metadata": {
        "colab": {
          "base_uri": "https://localhost:8080/"
        },
        "id": "if9AfMG-jBXO",
        "outputId": "02b8234d-5efa-4479-a7e2-fd9322b7fcf9"
      },
      "source": [
        "\n",
        "\n",
        "\n",
        "\n",
        "train_datagen = ImageDataGenerator(\n",
        "        rescale=1./255,\n",
        "        shear_range=0.2,\n",
        "        zoom_range=0.5,\n",
        "        horizontal_flip=True,\n",
        "        brightness_range=[1.0,2.0],\n",
        "        #validation_split=0.5\n",
        "        )\n",
        "train_generator = train_datagen.flow_from_directory(\n",
        "        r'/mydrive/dataset/Final Dataset/training',\n",
        "        target_size=(150,150),\n",
        "        color_mode='rgb',\n",
        "        batch_size=64,\n",
        "        shuffle=True,\n",
        "        class_mode='categorical',\n",
        "        seed=42,\n",
        "        #subset=\"training\",\n",
        "        #save_to_dir=r'C:\\Users\\Mahmudul Hasan\\AppData\\Local\\Programs\\Python\\Python38\\Scripts\\training set\\cars',\n",
        "        #save_prefix='',\n",
        "        #save_format='png'\n",
        "        )\n",
        "\n",
        "valid_datagen = ImageDataGenerator(rescale=1./255)\n",
        "valid_generator = valid_datagen.flow_from_directory(\n",
        "        r'/mydrive/dataset/Final Dataset/validation',\n",
        "        target_size=(150,150),\n",
        "        color_mode='rgb',\n",
        "        batch_size=64,\n",
        "        class_mode='categorical',\n",
        "        shuffle=True,\n",
        "        seed=42,\n",
        "        #subset=\"training\",\n",
        "        #save_to_dir=r'C:\\Users\\Mahmudul Hasan\\AppData\\Local\\Programs\\Python\\Python38\\Scripts\\training set\\cars',\n",
        "        #save_prefix='',\n",
        "        #save_format='png'\n",
        "        )\n",
        "\n",
        "\n",
        "train_generator.class_indices\n",
        "train_generator.classes"
      ],
      "execution_count": null,
      "outputs": [
        {
          "output_type": "stream",
          "text": [
            "Found 3388 images belonging to 5 classes.\n",
            "Found 340 images belonging to 5 classes.\n"
          ],
          "name": "stdout"
        },
        {
          "output_type": "execute_result",
          "data": {
            "text/plain": [
              "array([0, 0, 0, ..., 4, 4, 4], dtype=int32)"
            ]
          },
          "metadata": {
            "tags": []
          },
          "execution_count": 4
        }
      ]
    },
    {
      "cell_type": "code",
      "metadata": {
        "colab": {
          "base_uri": "https://localhost:8080/"
        },
        "id": "fy-Aer0qjvUv",
        "outputId": "85eb84c9-de61-4dc7-8e06-811d56caa3a4"
      },
      "source": [
        "from tensorflow.keras.applications import ResNet50\n",
        "\n",
        "base_model = ResNet50(include_top = False, # Leave out the last fully connected layer\n",
        "weights = 'imagenet',\n",
        "input_shape = (150, 150, 3), # Shape of our images\n",
        "pooling='max')\n",
        "\n",
        "\n",
        "\n",
        "for layer in base_model.layers:\n",
        "    layer.trainable = False\n",
        "\n",
        "\n",
        "# Flatten the output layer to 1 dimension\n",
        "x = Flatten()(base_model.output)\n",
        "\n",
        "x = Dense(1024)(x)\n",
        "\n",
        "# Add a fully connected layer with 512 hidden units and ReLU activation\n",
        "x = Dense(512, activation='relu')(x)\n",
        "\n",
        "# Add a dropout rate of 0.5\n",
        "#x = layers.Dropout(0.5)(x)\n",
        "\n",
        "# Add a final softmax layer for classification\n",
        "x = Dense(5, activation='softmax')(x)\n",
        "\n",
        "model = tf.keras.models.Model(base_model.input, x)\n",
        "\n"
      ],
      "execution_count": null,
      "outputs": [
        {
          "output_type": "stream",
          "text": [
            "Downloading data from https://storage.googleapis.com/tensorflow/keras-applications/resnet/resnet50_weights_tf_dim_ordering_tf_kernels_notop.h5\n",
            "94773248/94765736 [==============================] - 2s 0us/step\n"
          ],
          "name": "stdout"
        }
      ]
    },
    {
      "cell_type": "code",
      "metadata": {
        "colab": {
          "base_uri": "https://localhost:8080/"
        },
        "id": "MiZoCv1kMg8Z",
        "outputId": "5a20a51f-f601-4adb-a848-4871bcf4ed50"
      },
      "source": [
        "print(base_model.output)"
      ],
      "execution_count": null,
      "outputs": [
        {
          "output_type": "stream",
          "text": [
            "KerasTensor(type_spec=TensorSpec(shape=(None, 2048), dtype=tf.float32, name=None), name='max_pool/Max:0', description=\"created by layer 'max_pool'\")\n"
          ],
          "name": "stdout"
        }
      ]
    },
    {
      "cell_type": "code",
      "metadata": {
        "colab": {
          "base_uri": "https://localhost:8080/"
        },
        "id": "EzVm2X9PoW_3",
        "outputId": "e552e0d3-a73b-4aa8-e32b-751c8138172a"
      },
      "source": [
        "model.summary()"
      ],
      "execution_count": null,
      "outputs": [
        {
          "output_type": "stream",
          "text": [
            "Model: \"model\"\n",
            "__________________________________________________________________________________________________\n",
            "Layer (type)                    Output Shape         Param #     Connected to                     \n",
            "==================================================================================================\n",
            "input_1 (InputLayer)            [(None, 150, 150, 3) 0                                            \n",
            "__________________________________________________________________________________________________\n",
            "conv1_pad (ZeroPadding2D)       (None, 156, 156, 3)  0           input_1[0][0]                    \n",
            "__________________________________________________________________________________________________\n",
            "conv1_conv (Conv2D)             (None, 75, 75, 64)   9472        conv1_pad[0][0]                  \n",
            "__________________________________________________________________________________________________\n",
            "conv1_bn (BatchNormalization)   (None, 75, 75, 64)   256         conv1_conv[0][0]                 \n",
            "__________________________________________________________________________________________________\n",
            "conv1_relu (Activation)         (None, 75, 75, 64)   0           conv1_bn[0][0]                   \n",
            "__________________________________________________________________________________________________\n",
            "pool1_pad (ZeroPadding2D)       (None, 77, 77, 64)   0           conv1_relu[0][0]                 \n",
            "__________________________________________________________________________________________________\n",
            "pool1_pool (MaxPooling2D)       (None, 38, 38, 64)   0           pool1_pad[0][0]                  \n",
            "__________________________________________________________________________________________________\n",
            "conv2_block1_1_conv (Conv2D)    (None, 38, 38, 64)   4160        pool1_pool[0][0]                 \n",
            "__________________________________________________________________________________________________\n",
            "conv2_block1_1_bn (BatchNormali (None, 38, 38, 64)   256         conv2_block1_1_conv[0][0]        \n",
            "__________________________________________________________________________________________________\n",
            "conv2_block1_1_relu (Activation (None, 38, 38, 64)   0           conv2_block1_1_bn[0][0]          \n",
            "__________________________________________________________________________________________________\n",
            "conv2_block1_2_conv (Conv2D)    (None, 38, 38, 64)   36928       conv2_block1_1_relu[0][0]        \n",
            "__________________________________________________________________________________________________\n",
            "conv2_block1_2_bn (BatchNormali (None, 38, 38, 64)   256         conv2_block1_2_conv[0][0]        \n",
            "__________________________________________________________________________________________________\n",
            "conv2_block1_2_relu (Activation (None, 38, 38, 64)   0           conv2_block1_2_bn[0][0]          \n",
            "__________________________________________________________________________________________________\n",
            "conv2_block1_0_conv (Conv2D)    (None, 38, 38, 256)  16640       pool1_pool[0][0]                 \n",
            "__________________________________________________________________________________________________\n",
            "conv2_block1_3_conv (Conv2D)    (None, 38, 38, 256)  16640       conv2_block1_2_relu[0][0]        \n",
            "__________________________________________________________________________________________________\n",
            "conv2_block1_0_bn (BatchNormali (None, 38, 38, 256)  1024        conv2_block1_0_conv[0][0]        \n",
            "__________________________________________________________________________________________________\n",
            "conv2_block1_3_bn (BatchNormali (None, 38, 38, 256)  1024        conv2_block1_3_conv[0][0]        \n",
            "__________________________________________________________________________________________________\n",
            "conv2_block1_add (Add)          (None, 38, 38, 256)  0           conv2_block1_0_bn[0][0]          \n",
            "                                                                 conv2_block1_3_bn[0][0]          \n",
            "__________________________________________________________________________________________________\n",
            "conv2_block1_out (Activation)   (None, 38, 38, 256)  0           conv2_block1_add[0][0]           \n",
            "__________________________________________________________________________________________________\n",
            "conv2_block2_1_conv (Conv2D)    (None, 38, 38, 64)   16448       conv2_block1_out[0][0]           \n",
            "__________________________________________________________________________________________________\n",
            "conv2_block2_1_bn (BatchNormali (None, 38, 38, 64)   256         conv2_block2_1_conv[0][0]        \n",
            "__________________________________________________________________________________________________\n",
            "conv2_block2_1_relu (Activation (None, 38, 38, 64)   0           conv2_block2_1_bn[0][0]          \n",
            "__________________________________________________________________________________________________\n",
            "conv2_block2_2_conv (Conv2D)    (None, 38, 38, 64)   36928       conv2_block2_1_relu[0][0]        \n",
            "__________________________________________________________________________________________________\n",
            "conv2_block2_2_bn (BatchNormali (None, 38, 38, 64)   256         conv2_block2_2_conv[0][0]        \n",
            "__________________________________________________________________________________________________\n",
            "conv2_block2_2_relu (Activation (None, 38, 38, 64)   0           conv2_block2_2_bn[0][0]          \n",
            "__________________________________________________________________________________________________\n",
            "conv2_block2_3_conv (Conv2D)    (None, 38, 38, 256)  16640       conv2_block2_2_relu[0][0]        \n",
            "__________________________________________________________________________________________________\n",
            "conv2_block2_3_bn (BatchNormali (None, 38, 38, 256)  1024        conv2_block2_3_conv[0][0]        \n",
            "__________________________________________________________________________________________________\n",
            "conv2_block2_add (Add)          (None, 38, 38, 256)  0           conv2_block1_out[0][0]           \n",
            "                                                                 conv2_block2_3_bn[0][0]          \n",
            "__________________________________________________________________________________________________\n",
            "conv2_block2_out (Activation)   (None, 38, 38, 256)  0           conv2_block2_add[0][0]           \n",
            "__________________________________________________________________________________________________\n",
            "conv2_block3_1_conv (Conv2D)    (None, 38, 38, 64)   16448       conv2_block2_out[0][0]           \n",
            "__________________________________________________________________________________________________\n",
            "conv2_block3_1_bn (BatchNormali (None, 38, 38, 64)   256         conv2_block3_1_conv[0][0]        \n",
            "__________________________________________________________________________________________________\n",
            "conv2_block3_1_relu (Activation (None, 38, 38, 64)   0           conv2_block3_1_bn[0][0]          \n",
            "__________________________________________________________________________________________________\n",
            "conv2_block3_2_conv (Conv2D)    (None, 38, 38, 64)   36928       conv2_block3_1_relu[0][0]        \n",
            "__________________________________________________________________________________________________\n",
            "conv2_block3_2_bn (BatchNormali (None, 38, 38, 64)   256         conv2_block3_2_conv[0][0]        \n",
            "__________________________________________________________________________________________________\n",
            "conv2_block3_2_relu (Activation (None, 38, 38, 64)   0           conv2_block3_2_bn[0][0]          \n",
            "__________________________________________________________________________________________________\n",
            "conv2_block3_3_conv (Conv2D)    (None, 38, 38, 256)  16640       conv2_block3_2_relu[0][0]        \n",
            "__________________________________________________________________________________________________\n",
            "conv2_block3_3_bn (BatchNormali (None, 38, 38, 256)  1024        conv2_block3_3_conv[0][0]        \n",
            "__________________________________________________________________________________________________\n",
            "conv2_block3_add (Add)          (None, 38, 38, 256)  0           conv2_block2_out[0][0]           \n",
            "                                                                 conv2_block3_3_bn[0][0]          \n",
            "__________________________________________________________________________________________________\n",
            "conv2_block3_out (Activation)   (None, 38, 38, 256)  0           conv2_block3_add[0][0]           \n",
            "__________________________________________________________________________________________________\n",
            "conv3_block1_1_conv (Conv2D)    (None, 19, 19, 128)  32896       conv2_block3_out[0][0]           \n",
            "__________________________________________________________________________________________________\n",
            "conv3_block1_1_bn (BatchNormali (None, 19, 19, 128)  512         conv3_block1_1_conv[0][0]        \n",
            "__________________________________________________________________________________________________\n",
            "conv3_block1_1_relu (Activation (None, 19, 19, 128)  0           conv3_block1_1_bn[0][0]          \n",
            "__________________________________________________________________________________________________\n",
            "conv3_block1_2_conv (Conv2D)    (None, 19, 19, 128)  147584      conv3_block1_1_relu[0][0]        \n",
            "__________________________________________________________________________________________________\n",
            "conv3_block1_2_bn (BatchNormali (None, 19, 19, 128)  512         conv3_block1_2_conv[0][0]        \n",
            "__________________________________________________________________________________________________\n",
            "conv3_block1_2_relu (Activation (None, 19, 19, 128)  0           conv3_block1_2_bn[0][0]          \n",
            "__________________________________________________________________________________________________\n",
            "conv3_block1_0_conv (Conv2D)    (None, 19, 19, 512)  131584      conv2_block3_out[0][0]           \n",
            "__________________________________________________________________________________________________\n",
            "conv3_block1_3_conv (Conv2D)    (None, 19, 19, 512)  66048       conv3_block1_2_relu[0][0]        \n",
            "__________________________________________________________________________________________________\n",
            "conv3_block1_0_bn (BatchNormali (None, 19, 19, 512)  2048        conv3_block1_0_conv[0][0]        \n",
            "__________________________________________________________________________________________________\n",
            "conv3_block1_3_bn (BatchNormali (None, 19, 19, 512)  2048        conv3_block1_3_conv[0][0]        \n",
            "__________________________________________________________________________________________________\n",
            "conv3_block1_add (Add)          (None, 19, 19, 512)  0           conv3_block1_0_bn[0][0]          \n",
            "                                                                 conv3_block1_3_bn[0][0]          \n",
            "__________________________________________________________________________________________________\n",
            "conv3_block1_out (Activation)   (None, 19, 19, 512)  0           conv3_block1_add[0][0]           \n",
            "__________________________________________________________________________________________________\n",
            "conv3_block2_1_conv (Conv2D)    (None, 19, 19, 128)  65664       conv3_block1_out[0][0]           \n",
            "__________________________________________________________________________________________________\n",
            "conv3_block2_1_bn (BatchNormali (None, 19, 19, 128)  512         conv3_block2_1_conv[0][0]        \n",
            "__________________________________________________________________________________________________\n",
            "conv3_block2_1_relu (Activation (None, 19, 19, 128)  0           conv3_block2_1_bn[0][0]          \n",
            "__________________________________________________________________________________________________\n",
            "conv3_block2_2_conv (Conv2D)    (None, 19, 19, 128)  147584      conv3_block2_1_relu[0][0]        \n",
            "__________________________________________________________________________________________________\n",
            "conv3_block2_2_bn (BatchNormali (None, 19, 19, 128)  512         conv3_block2_2_conv[0][0]        \n",
            "__________________________________________________________________________________________________\n",
            "conv3_block2_2_relu (Activation (None, 19, 19, 128)  0           conv3_block2_2_bn[0][0]          \n",
            "__________________________________________________________________________________________________\n",
            "conv3_block2_3_conv (Conv2D)    (None, 19, 19, 512)  66048       conv3_block2_2_relu[0][0]        \n",
            "__________________________________________________________________________________________________\n",
            "conv3_block2_3_bn (BatchNormali (None, 19, 19, 512)  2048        conv3_block2_3_conv[0][0]        \n",
            "__________________________________________________________________________________________________\n",
            "conv3_block2_add (Add)          (None, 19, 19, 512)  0           conv3_block1_out[0][0]           \n",
            "                                                                 conv3_block2_3_bn[0][0]          \n",
            "__________________________________________________________________________________________________\n",
            "conv3_block2_out (Activation)   (None, 19, 19, 512)  0           conv3_block2_add[0][0]           \n",
            "__________________________________________________________________________________________________\n",
            "conv3_block3_1_conv (Conv2D)    (None, 19, 19, 128)  65664       conv3_block2_out[0][0]           \n",
            "__________________________________________________________________________________________________\n",
            "conv3_block3_1_bn (BatchNormali (None, 19, 19, 128)  512         conv3_block3_1_conv[0][0]        \n",
            "__________________________________________________________________________________________________\n",
            "conv3_block3_1_relu (Activation (None, 19, 19, 128)  0           conv3_block3_1_bn[0][0]          \n",
            "__________________________________________________________________________________________________\n",
            "conv3_block3_2_conv (Conv2D)    (None, 19, 19, 128)  147584      conv3_block3_1_relu[0][0]        \n",
            "__________________________________________________________________________________________________\n",
            "conv3_block3_2_bn (BatchNormali (None, 19, 19, 128)  512         conv3_block3_2_conv[0][0]        \n",
            "__________________________________________________________________________________________________\n",
            "conv3_block3_2_relu (Activation (None, 19, 19, 128)  0           conv3_block3_2_bn[0][0]          \n",
            "__________________________________________________________________________________________________\n",
            "conv3_block3_3_conv (Conv2D)    (None, 19, 19, 512)  66048       conv3_block3_2_relu[0][0]        \n",
            "__________________________________________________________________________________________________\n",
            "conv3_block3_3_bn (BatchNormali (None, 19, 19, 512)  2048        conv3_block3_3_conv[0][0]        \n",
            "__________________________________________________________________________________________________\n",
            "conv3_block3_add (Add)          (None, 19, 19, 512)  0           conv3_block2_out[0][0]           \n",
            "                                                                 conv3_block3_3_bn[0][0]          \n",
            "__________________________________________________________________________________________________\n",
            "conv3_block3_out (Activation)   (None, 19, 19, 512)  0           conv3_block3_add[0][0]           \n",
            "__________________________________________________________________________________________________\n",
            "conv3_block4_1_conv (Conv2D)    (None, 19, 19, 128)  65664       conv3_block3_out[0][0]           \n",
            "__________________________________________________________________________________________________\n",
            "conv3_block4_1_bn (BatchNormali (None, 19, 19, 128)  512         conv3_block4_1_conv[0][0]        \n",
            "__________________________________________________________________________________________________\n",
            "conv3_block4_1_relu (Activation (None, 19, 19, 128)  0           conv3_block4_1_bn[0][0]          \n",
            "__________________________________________________________________________________________________\n",
            "conv3_block4_2_conv (Conv2D)    (None, 19, 19, 128)  147584      conv3_block4_1_relu[0][0]        \n",
            "__________________________________________________________________________________________________\n",
            "conv3_block4_2_bn (BatchNormali (None, 19, 19, 128)  512         conv3_block4_2_conv[0][0]        \n",
            "__________________________________________________________________________________________________\n",
            "conv3_block4_2_relu (Activation (None, 19, 19, 128)  0           conv3_block4_2_bn[0][0]          \n",
            "__________________________________________________________________________________________________\n",
            "conv3_block4_3_conv (Conv2D)    (None, 19, 19, 512)  66048       conv3_block4_2_relu[0][0]        \n",
            "__________________________________________________________________________________________________\n",
            "conv3_block4_3_bn (BatchNormali (None, 19, 19, 512)  2048        conv3_block4_3_conv[0][0]        \n",
            "__________________________________________________________________________________________________\n",
            "conv3_block4_add (Add)          (None, 19, 19, 512)  0           conv3_block3_out[0][0]           \n",
            "                                                                 conv3_block4_3_bn[0][0]          \n",
            "__________________________________________________________________________________________________\n",
            "conv3_block4_out (Activation)   (None, 19, 19, 512)  0           conv3_block4_add[0][0]           \n",
            "__________________________________________________________________________________________________\n",
            "conv4_block1_1_conv (Conv2D)    (None, 10, 10, 256)  131328      conv3_block4_out[0][0]           \n",
            "__________________________________________________________________________________________________\n",
            "conv4_block1_1_bn (BatchNormali (None, 10, 10, 256)  1024        conv4_block1_1_conv[0][0]        \n",
            "__________________________________________________________________________________________________\n",
            "conv4_block1_1_relu (Activation (None, 10, 10, 256)  0           conv4_block1_1_bn[0][0]          \n",
            "__________________________________________________________________________________________________\n",
            "conv4_block1_2_conv (Conv2D)    (None, 10, 10, 256)  590080      conv4_block1_1_relu[0][0]        \n",
            "__________________________________________________________________________________________________\n",
            "conv4_block1_2_bn (BatchNormali (None, 10, 10, 256)  1024        conv4_block1_2_conv[0][0]        \n",
            "__________________________________________________________________________________________________\n",
            "conv4_block1_2_relu (Activation (None, 10, 10, 256)  0           conv4_block1_2_bn[0][0]          \n",
            "__________________________________________________________________________________________________\n",
            "conv4_block1_0_conv (Conv2D)    (None, 10, 10, 1024) 525312      conv3_block4_out[0][0]           \n",
            "__________________________________________________________________________________________________\n",
            "conv4_block1_3_conv (Conv2D)    (None, 10, 10, 1024) 263168      conv4_block1_2_relu[0][0]        \n",
            "__________________________________________________________________________________________________\n",
            "conv4_block1_0_bn (BatchNormali (None, 10, 10, 1024) 4096        conv4_block1_0_conv[0][0]        \n",
            "__________________________________________________________________________________________________\n",
            "conv4_block1_3_bn (BatchNormali (None, 10, 10, 1024) 4096        conv4_block1_3_conv[0][0]        \n",
            "__________________________________________________________________________________________________\n",
            "conv4_block1_add (Add)          (None, 10, 10, 1024) 0           conv4_block1_0_bn[0][0]          \n",
            "                                                                 conv4_block1_3_bn[0][0]          \n",
            "__________________________________________________________________________________________________\n",
            "conv4_block1_out (Activation)   (None, 10, 10, 1024) 0           conv4_block1_add[0][0]           \n",
            "__________________________________________________________________________________________________\n",
            "conv4_block2_1_conv (Conv2D)    (None, 10, 10, 256)  262400      conv4_block1_out[0][0]           \n",
            "__________________________________________________________________________________________________\n",
            "conv4_block2_1_bn (BatchNormali (None, 10, 10, 256)  1024        conv4_block2_1_conv[0][0]        \n",
            "__________________________________________________________________________________________________\n",
            "conv4_block2_1_relu (Activation (None, 10, 10, 256)  0           conv4_block2_1_bn[0][0]          \n",
            "__________________________________________________________________________________________________\n",
            "conv4_block2_2_conv (Conv2D)    (None, 10, 10, 256)  590080      conv4_block2_1_relu[0][0]        \n",
            "__________________________________________________________________________________________________\n",
            "conv4_block2_2_bn (BatchNormali (None, 10, 10, 256)  1024        conv4_block2_2_conv[0][0]        \n",
            "__________________________________________________________________________________________________\n",
            "conv4_block2_2_relu (Activation (None, 10, 10, 256)  0           conv4_block2_2_bn[0][0]          \n",
            "__________________________________________________________________________________________________\n",
            "conv4_block2_3_conv (Conv2D)    (None, 10, 10, 1024) 263168      conv4_block2_2_relu[0][0]        \n",
            "__________________________________________________________________________________________________\n",
            "conv4_block2_3_bn (BatchNormali (None, 10, 10, 1024) 4096        conv4_block2_3_conv[0][0]        \n",
            "__________________________________________________________________________________________________\n",
            "conv4_block2_add (Add)          (None, 10, 10, 1024) 0           conv4_block1_out[0][0]           \n",
            "                                                                 conv4_block2_3_bn[0][0]          \n",
            "__________________________________________________________________________________________________\n",
            "conv4_block2_out (Activation)   (None, 10, 10, 1024) 0           conv4_block2_add[0][0]           \n",
            "__________________________________________________________________________________________________\n",
            "conv4_block3_1_conv (Conv2D)    (None, 10, 10, 256)  262400      conv4_block2_out[0][0]           \n",
            "__________________________________________________________________________________________________\n",
            "conv4_block3_1_bn (BatchNormali (None, 10, 10, 256)  1024        conv4_block3_1_conv[0][0]        \n",
            "__________________________________________________________________________________________________\n",
            "conv4_block3_1_relu (Activation (None, 10, 10, 256)  0           conv4_block3_1_bn[0][0]          \n",
            "__________________________________________________________________________________________________\n",
            "conv4_block3_2_conv (Conv2D)    (None, 10, 10, 256)  590080      conv4_block3_1_relu[0][0]        \n",
            "__________________________________________________________________________________________________\n",
            "conv4_block3_2_bn (BatchNormali (None, 10, 10, 256)  1024        conv4_block3_2_conv[0][0]        \n",
            "__________________________________________________________________________________________________\n",
            "conv4_block3_2_relu (Activation (None, 10, 10, 256)  0           conv4_block3_2_bn[0][0]          \n",
            "__________________________________________________________________________________________________\n",
            "conv4_block3_3_conv (Conv2D)    (None, 10, 10, 1024) 263168      conv4_block3_2_relu[0][0]        \n",
            "__________________________________________________________________________________________________\n",
            "conv4_block3_3_bn (BatchNormali (None, 10, 10, 1024) 4096        conv4_block3_3_conv[0][0]        \n",
            "__________________________________________________________________________________________________\n",
            "conv4_block3_add (Add)          (None, 10, 10, 1024) 0           conv4_block2_out[0][0]           \n",
            "                                                                 conv4_block3_3_bn[0][0]          \n",
            "__________________________________________________________________________________________________\n",
            "conv4_block3_out (Activation)   (None, 10, 10, 1024) 0           conv4_block3_add[0][0]           \n",
            "__________________________________________________________________________________________________\n",
            "conv4_block4_1_conv (Conv2D)    (None, 10, 10, 256)  262400      conv4_block3_out[0][0]           \n",
            "__________________________________________________________________________________________________\n",
            "conv4_block4_1_bn (BatchNormali (None, 10, 10, 256)  1024        conv4_block4_1_conv[0][0]        \n",
            "__________________________________________________________________________________________________\n",
            "conv4_block4_1_relu (Activation (None, 10, 10, 256)  0           conv4_block4_1_bn[0][0]          \n",
            "__________________________________________________________________________________________________\n",
            "conv4_block4_2_conv (Conv2D)    (None, 10, 10, 256)  590080      conv4_block4_1_relu[0][0]        \n",
            "__________________________________________________________________________________________________\n",
            "conv4_block4_2_bn (BatchNormali (None, 10, 10, 256)  1024        conv4_block4_2_conv[0][0]        \n",
            "__________________________________________________________________________________________________\n",
            "conv4_block4_2_relu (Activation (None, 10, 10, 256)  0           conv4_block4_2_bn[0][0]          \n",
            "__________________________________________________________________________________________________\n",
            "conv4_block4_3_conv (Conv2D)    (None, 10, 10, 1024) 263168      conv4_block4_2_relu[0][0]        \n",
            "__________________________________________________________________________________________________\n",
            "conv4_block4_3_bn (BatchNormali (None, 10, 10, 1024) 4096        conv4_block4_3_conv[0][0]        \n",
            "__________________________________________________________________________________________________\n",
            "conv4_block4_add (Add)          (None, 10, 10, 1024) 0           conv4_block3_out[0][0]           \n",
            "                                                                 conv4_block4_3_bn[0][0]          \n",
            "__________________________________________________________________________________________________\n",
            "conv4_block4_out (Activation)   (None, 10, 10, 1024) 0           conv4_block4_add[0][0]           \n",
            "__________________________________________________________________________________________________\n",
            "conv4_block5_1_conv (Conv2D)    (None, 10, 10, 256)  262400      conv4_block4_out[0][0]           \n",
            "__________________________________________________________________________________________________\n",
            "conv4_block5_1_bn (BatchNormali (None, 10, 10, 256)  1024        conv4_block5_1_conv[0][0]        \n",
            "__________________________________________________________________________________________________\n",
            "conv4_block5_1_relu (Activation (None, 10, 10, 256)  0           conv4_block5_1_bn[0][0]          \n",
            "__________________________________________________________________________________________________\n",
            "conv4_block5_2_conv (Conv2D)    (None, 10, 10, 256)  590080      conv4_block5_1_relu[0][0]        \n",
            "__________________________________________________________________________________________________\n",
            "conv4_block5_2_bn (BatchNormali (None, 10, 10, 256)  1024        conv4_block5_2_conv[0][0]        \n",
            "__________________________________________________________________________________________________\n",
            "conv4_block5_2_relu (Activation (None, 10, 10, 256)  0           conv4_block5_2_bn[0][0]          \n",
            "__________________________________________________________________________________________________\n",
            "conv4_block5_3_conv (Conv2D)    (None, 10, 10, 1024) 263168      conv4_block5_2_relu[0][0]        \n",
            "__________________________________________________________________________________________________\n",
            "conv4_block5_3_bn (BatchNormali (None, 10, 10, 1024) 4096        conv4_block5_3_conv[0][0]        \n",
            "__________________________________________________________________________________________________\n",
            "conv4_block5_add (Add)          (None, 10, 10, 1024) 0           conv4_block4_out[0][0]           \n",
            "                                                                 conv4_block5_3_bn[0][0]          \n",
            "__________________________________________________________________________________________________\n",
            "conv4_block5_out (Activation)   (None, 10, 10, 1024) 0           conv4_block5_add[0][0]           \n",
            "__________________________________________________________________________________________________\n",
            "conv4_block6_1_conv (Conv2D)    (None, 10, 10, 256)  262400      conv4_block5_out[0][0]           \n",
            "__________________________________________________________________________________________________\n",
            "conv4_block6_1_bn (BatchNormali (None, 10, 10, 256)  1024        conv4_block6_1_conv[0][0]        \n",
            "__________________________________________________________________________________________________\n",
            "conv4_block6_1_relu (Activation (None, 10, 10, 256)  0           conv4_block6_1_bn[0][0]          \n",
            "__________________________________________________________________________________________________\n",
            "conv4_block6_2_conv (Conv2D)    (None, 10, 10, 256)  590080      conv4_block6_1_relu[0][0]        \n",
            "__________________________________________________________________________________________________\n",
            "conv4_block6_2_bn (BatchNormali (None, 10, 10, 256)  1024        conv4_block6_2_conv[0][0]        \n",
            "__________________________________________________________________________________________________\n",
            "conv4_block6_2_relu (Activation (None, 10, 10, 256)  0           conv4_block6_2_bn[0][0]          \n",
            "__________________________________________________________________________________________________\n",
            "conv4_block6_3_conv (Conv2D)    (None, 10, 10, 1024) 263168      conv4_block6_2_relu[0][0]        \n",
            "__________________________________________________________________________________________________\n",
            "conv4_block6_3_bn (BatchNormali (None, 10, 10, 1024) 4096        conv4_block6_3_conv[0][0]        \n",
            "__________________________________________________________________________________________________\n",
            "conv4_block6_add (Add)          (None, 10, 10, 1024) 0           conv4_block5_out[0][0]           \n",
            "                                                                 conv4_block6_3_bn[0][0]          \n",
            "__________________________________________________________________________________________________\n",
            "conv4_block6_out (Activation)   (None, 10, 10, 1024) 0           conv4_block6_add[0][0]           \n",
            "__________________________________________________________________________________________________\n",
            "conv5_block1_1_conv (Conv2D)    (None, 5, 5, 512)    524800      conv4_block6_out[0][0]           \n",
            "__________________________________________________________________________________________________\n",
            "conv5_block1_1_bn (BatchNormali (None, 5, 5, 512)    2048        conv5_block1_1_conv[0][0]        \n",
            "__________________________________________________________________________________________________\n",
            "conv5_block1_1_relu (Activation (None, 5, 5, 512)    0           conv5_block1_1_bn[0][0]          \n",
            "__________________________________________________________________________________________________\n",
            "conv5_block1_2_conv (Conv2D)    (None, 5, 5, 512)    2359808     conv5_block1_1_relu[0][0]        \n",
            "__________________________________________________________________________________________________\n",
            "conv5_block1_2_bn (BatchNormali (None, 5, 5, 512)    2048        conv5_block1_2_conv[0][0]        \n",
            "__________________________________________________________________________________________________\n",
            "conv5_block1_2_relu (Activation (None, 5, 5, 512)    0           conv5_block1_2_bn[0][0]          \n",
            "__________________________________________________________________________________________________\n",
            "conv5_block1_0_conv (Conv2D)    (None, 5, 5, 2048)   2099200     conv4_block6_out[0][0]           \n",
            "__________________________________________________________________________________________________\n",
            "conv5_block1_3_conv (Conv2D)    (None, 5, 5, 2048)   1050624     conv5_block1_2_relu[0][0]        \n",
            "__________________________________________________________________________________________________\n",
            "conv5_block1_0_bn (BatchNormali (None, 5, 5, 2048)   8192        conv5_block1_0_conv[0][0]        \n",
            "__________________________________________________________________________________________________\n",
            "conv5_block1_3_bn (BatchNormali (None, 5, 5, 2048)   8192        conv5_block1_3_conv[0][0]        \n",
            "__________________________________________________________________________________________________\n",
            "conv5_block1_add (Add)          (None, 5, 5, 2048)   0           conv5_block1_0_bn[0][0]          \n",
            "                                                                 conv5_block1_3_bn[0][0]          \n",
            "__________________________________________________________________________________________________\n",
            "conv5_block1_out (Activation)   (None, 5, 5, 2048)   0           conv5_block1_add[0][0]           \n",
            "__________________________________________________________________________________________________\n",
            "conv5_block2_1_conv (Conv2D)    (None, 5, 5, 512)    1049088     conv5_block1_out[0][0]           \n",
            "__________________________________________________________________________________________________\n",
            "conv5_block2_1_bn (BatchNormali (None, 5, 5, 512)    2048        conv5_block2_1_conv[0][0]        \n",
            "__________________________________________________________________________________________________\n",
            "conv5_block2_1_relu (Activation (None, 5, 5, 512)    0           conv5_block2_1_bn[0][0]          \n",
            "__________________________________________________________________________________________________\n",
            "conv5_block2_2_conv (Conv2D)    (None, 5, 5, 512)    2359808     conv5_block2_1_relu[0][0]        \n",
            "__________________________________________________________________________________________________\n",
            "conv5_block2_2_bn (BatchNormali (None, 5, 5, 512)    2048        conv5_block2_2_conv[0][0]        \n",
            "__________________________________________________________________________________________________\n",
            "conv5_block2_2_relu (Activation (None, 5, 5, 512)    0           conv5_block2_2_bn[0][0]          \n",
            "__________________________________________________________________________________________________\n",
            "conv5_block2_3_conv (Conv2D)    (None, 5, 5, 2048)   1050624     conv5_block2_2_relu[0][0]        \n",
            "__________________________________________________________________________________________________\n",
            "conv5_block2_3_bn (BatchNormali (None, 5, 5, 2048)   8192        conv5_block2_3_conv[0][0]        \n",
            "__________________________________________________________________________________________________\n",
            "conv5_block2_add (Add)          (None, 5, 5, 2048)   0           conv5_block1_out[0][0]           \n",
            "                                                                 conv5_block2_3_bn[0][0]          \n",
            "__________________________________________________________________________________________________\n",
            "conv5_block2_out (Activation)   (None, 5, 5, 2048)   0           conv5_block2_add[0][0]           \n",
            "__________________________________________________________________________________________________\n",
            "conv5_block3_1_conv (Conv2D)    (None, 5, 5, 512)    1049088     conv5_block2_out[0][0]           \n",
            "__________________________________________________________________________________________________\n",
            "conv5_block3_1_bn (BatchNormali (None, 5, 5, 512)    2048        conv5_block3_1_conv[0][0]        \n",
            "__________________________________________________________________________________________________\n",
            "conv5_block3_1_relu (Activation (None, 5, 5, 512)    0           conv5_block3_1_bn[0][0]          \n",
            "__________________________________________________________________________________________________\n",
            "conv5_block3_2_conv (Conv2D)    (None, 5, 5, 512)    2359808     conv5_block3_1_relu[0][0]        \n",
            "__________________________________________________________________________________________________\n",
            "conv5_block3_2_bn (BatchNormali (None, 5, 5, 512)    2048        conv5_block3_2_conv[0][0]        \n",
            "__________________________________________________________________________________________________\n",
            "conv5_block3_2_relu (Activation (None, 5, 5, 512)    0           conv5_block3_2_bn[0][0]          \n",
            "__________________________________________________________________________________________________\n",
            "conv5_block3_3_conv (Conv2D)    (None, 5, 5, 2048)   1050624     conv5_block3_2_relu[0][0]        \n",
            "__________________________________________________________________________________________________\n",
            "conv5_block3_3_bn (BatchNormali (None, 5, 5, 2048)   8192        conv5_block3_3_conv[0][0]        \n",
            "__________________________________________________________________________________________________\n",
            "conv5_block3_add (Add)          (None, 5, 5, 2048)   0           conv5_block2_out[0][0]           \n",
            "                                                                 conv5_block3_3_bn[0][0]          \n",
            "__________________________________________________________________________________________________\n",
            "conv5_block3_out (Activation)   (None, 5, 5, 2048)   0           conv5_block3_add[0][0]           \n",
            "__________________________________________________________________________________________________\n",
            "max_pool (GlobalMaxPooling2D)   (None, 2048)         0           conv5_block3_out[0][0]           \n",
            "__________________________________________________________________________________________________\n",
            "flatten (Flatten)               (None, 2048)         0           max_pool[0][0]                   \n",
            "__________________________________________________________________________________________________\n",
            "dense (Dense)                   (None, 1024)         2098176     flatten[0][0]                    \n",
            "__________________________________________________________________________________________________\n",
            "dense_1 (Dense)                 (None, 512)          524800      dense[0][0]                      \n",
            "__________________________________________________________________________________________________\n",
            "dense_2 (Dense)                 (None, 5)            2565        dense_1[0][0]                    \n",
            "==================================================================================================\n",
            "Total params: 26,213,253\n",
            "Trainable params: 2,625,541\n",
            "Non-trainable params: 23,587,712\n",
            "__________________________________________________________________________________________________\n"
          ],
          "name": "stdout"
        }
      ]
    },
    {
      "cell_type": "code",
      "metadata": {
        "id": "e-QpTnDdofJe"
      },
      "source": [
        "model.compile(loss='categorical_crossentropy', \n",
        "              #optimizer=RMSprop(lr=0.0001),\n",
        "              optimizer=Adam(learning_rate=0.0001),\n",
        "              metrics=['accuracy'])"
      ],
      "execution_count": null,
      "outputs": []
    },
    {
      "cell_type": "code",
      "metadata": {
        "id": "QpR7huMARzvL"
      },
      "source": [
        "#Change the link to checkpoint folder\n",
        "from keras.callbacks import CSVLogger\n",
        "checkpoint_path = \"/mydrive/dataset/Transfer Models/ResNet50/cp-{epoch:04d}.ckpt\"\n",
        "cp_callback = tf.keras.callbacks.ModelCheckpoint(\n",
        "    filepath=checkpoint_path, \n",
        "    verbose=1,\n",
        "    save_weights_only=True,\n",
        "    save_freq=2650)\n",
        "    \n",
        "\n",
        "csv_logger = CSVLogger(\"/mydrive/dataset/Transfer Models/ResNet50/model_history_log.csv\", append=True)"
      ],
      "execution_count": null,
      "outputs": []
    },
    {
      "cell_type": "code",
      "metadata": {
        "id": "ySYdfS_wR3x1",
        "colab": {
          "base_uri": "https://localhost:8080/",
          "height": 36
        },
        "outputId": "53d9cb9d-0ada-4de3-bf4c-734e97b14e56"
      },
      "source": [
        "#Change the link to checkpoint folder\n",
        "latest = tf.train.latest_checkpoint('/mydrive/dataset/Transfer Models/ResNet50')\n",
        "#Run in case of interuption \n",
        "model.load_weights(latest)\n",
        "latest"
      ],
      "execution_count": null,
      "outputs": [
        {
          "output_type": "execute_result",
          "data": {
            "application/vnd.google.colaboratory.intrinsic+json": {
              "type": "string"
            },
            "text/plain": [
              "'/mydrive/dataset/Transfer Models/ResNet50/cp-0250.ckpt'"
            ]
          },
          "metadata": {
            "tags": []
          },
          "execution_count": 18
        }
      ]
    },
    {
      "cell_type": "code",
      "metadata": {
        "colab": {
          "base_uri": "https://localhost:8080/"
        },
        "id": "kOT2GpHUoq9z",
        "outputId": "18d6e8a7-2a10-4ad5-fb44-8faa41a3dc94"
      },
      "source": [
        "history=model.fit(train_generator,\n",
        "                    epochs=250,\n",
        "                    validation_data=valid_generator,\n",
        "                    callbacks=[cp_callback,csv_logger]\n",
        "                    )"
      ],
      "execution_count": null,
      "outputs": [
        {
          "output_type": "stream",
          "text": [
            "Epoch 1/250\n",
            "53/53 [==============================] - 1145s 22s/step - loss: 0.6990 - accuracy: 0.7053 - val_loss: 0.7328 - val_accuracy: 0.6588\n",
            "Epoch 2/250\n",
            "53/53 [==============================] - 38s 713ms/step - loss: 0.7116 - accuracy: 0.7009 - val_loss: 0.7336 - val_accuracy: 0.6735\n",
            "Epoch 3/250\n",
            "53/53 [==============================] - 37s 705ms/step - loss: 0.7183 - accuracy: 0.6942 - val_loss: 0.7228 - val_accuracy: 0.7088\n",
            "Epoch 4/250\n",
            "53/53 [==============================] - 38s 711ms/step - loss: 0.7175 - accuracy: 0.6973 - val_loss: 0.7526 - val_accuracy: 0.6294\n",
            "Epoch 5/250\n",
            "53/53 [==============================] - 38s 718ms/step - loss: 0.6986 - accuracy: 0.7018 - val_loss: 0.6991 - val_accuracy: 0.7000\n",
            "Epoch 6/250\n",
            "53/53 [==============================] - 38s 711ms/step - loss: 0.7285 - accuracy: 0.6900 - val_loss: 0.6902 - val_accuracy: 0.7118\n",
            "Epoch 7/250\n",
            "53/53 [==============================] - 37s 707ms/step - loss: 0.7500 - accuracy: 0.6928 - val_loss: 0.6881 - val_accuracy: 0.7118\n",
            "Epoch 8/250\n",
            "53/53 [==============================] - 37s 706ms/step - loss: 0.6969 - accuracy: 0.7083 - val_loss: 0.7716 - val_accuracy: 0.6441\n",
            "Epoch 9/250\n",
            "53/53 [==============================] - 37s 705ms/step - loss: 0.7126 - accuracy: 0.6922 - val_loss: 0.7094 - val_accuracy: 0.7029\n",
            "Epoch 10/250\n",
            "53/53 [==============================] - 37s 703ms/step - loss: 0.7153 - accuracy: 0.6869 - val_loss: 0.6856 - val_accuracy: 0.7294\n",
            "Epoch 11/250\n",
            "53/53 [==============================] - 38s 706ms/step - loss: 0.7259 - accuracy: 0.6833 - val_loss: 0.7646 - val_accuracy: 0.6206\n",
            "Epoch 12/250\n",
            "53/53 [==============================] - 37s 704ms/step - loss: 0.6965 - accuracy: 0.7025 - val_loss: 0.7769 - val_accuracy: 0.6412\n",
            "Epoch 13/250\n",
            "53/53 [==============================] - 38s 712ms/step - loss: 0.7392 - accuracy: 0.6850 - val_loss: 0.7207 - val_accuracy: 0.6824\n",
            "Epoch 14/250\n",
            "53/53 [==============================] - 38s 707ms/step - loss: 0.7007 - accuracy: 0.7158 - val_loss: 0.7242 - val_accuracy: 0.6765\n",
            "Epoch 15/250\n",
            "53/53 [==============================] - 38s 710ms/step - loss: 0.7166 - accuracy: 0.6928 - val_loss: 0.7461 - val_accuracy: 0.6294\n",
            "Epoch 16/250\n",
            "53/53 [==============================] - 38s 707ms/step - loss: 0.7179 - accuracy: 0.7059 - val_loss: 0.6891 - val_accuracy: 0.6971\n",
            "Epoch 17/250\n",
            "53/53 [==============================] - 38s 711ms/step - loss: 0.7159 - accuracy: 0.6875 - val_loss: 0.6932 - val_accuracy: 0.7059\n",
            "Epoch 18/250\n",
            "53/53 [==============================] - 38s 707ms/step - loss: 0.6823 - accuracy: 0.7106 - val_loss: 0.7398 - val_accuracy: 0.6647\n",
            "Epoch 19/250\n",
            "53/53 [==============================] - 38s 715ms/step - loss: 0.6998 - accuracy: 0.7089 - val_loss: 0.6857 - val_accuracy: 0.7059\n",
            "Epoch 20/250\n",
            "53/53 [==============================] - 38s 718ms/step - loss: 0.7079 - accuracy: 0.7069 - val_loss: 0.7755 - val_accuracy: 0.6441\n",
            "Epoch 21/250\n",
            "53/53 [==============================] - 38s 723ms/step - loss: 0.7521 - accuracy: 0.6848 - val_loss: 0.6949 - val_accuracy: 0.7029\n",
            "Epoch 22/250\n",
            "53/53 [==============================] - 38s 714ms/step - loss: 0.6775 - accuracy: 0.7168 - val_loss: 0.6915 - val_accuracy: 0.6882\n",
            "Epoch 23/250\n",
            "53/53 [==============================] - 38s 718ms/step - loss: 0.6910 - accuracy: 0.6996 - val_loss: 0.6702 - val_accuracy: 0.7118\n",
            "Epoch 24/250\n",
            "53/53 [==============================] - 38s 715ms/step - loss: 0.6999 - accuracy: 0.7271 - val_loss: 0.7203 - val_accuracy: 0.6676\n",
            "Epoch 25/250\n",
            "53/53 [==============================] - 38s 711ms/step - loss: 0.7244 - accuracy: 0.7005 - val_loss: 0.7428 - val_accuracy: 0.6647\n",
            "Epoch 26/250\n",
            "53/53 [==============================] - 38s 717ms/step - loss: 0.7166 - accuracy: 0.6930 - val_loss: 0.7011 - val_accuracy: 0.6912\n",
            "Epoch 27/250\n",
            "53/53 [==============================] - 38s 714ms/step - loss: 0.7332 - accuracy: 0.6982 - val_loss: 0.7291 - val_accuracy: 0.6824\n",
            "Epoch 28/250\n",
            "53/53 [==============================] - 38s 710ms/step - loss: 0.7288 - accuracy: 0.6879 - val_loss: 0.7317 - val_accuracy: 0.6853\n",
            "Epoch 29/250\n",
            "53/53 [==============================] - 38s 714ms/step - loss: 0.6924 - accuracy: 0.7046 - val_loss: 0.6889 - val_accuracy: 0.6941\n",
            "Epoch 30/250\n",
            "53/53 [==============================] - 38s 711ms/step - loss: 0.7100 - accuracy: 0.6932 - val_loss: 0.7181 - val_accuracy: 0.7235\n",
            "Epoch 31/250\n",
            "53/53 [==============================] - 37s 704ms/step - loss: 0.7209 - accuracy: 0.7063 - val_loss: 0.7123 - val_accuracy: 0.6794\n",
            "Epoch 32/250\n",
            "53/53 [==============================] - 38s 708ms/step - loss: 0.7186 - accuracy: 0.6980 - val_loss: 0.6983 - val_accuracy: 0.6794\n",
            "Epoch 33/250\n",
            "53/53 [==============================] - 38s 707ms/step - loss: 0.6887 - accuracy: 0.7011 - val_loss: 0.7329 - val_accuracy: 0.6559\n",
            "Epoch 34/250\n",
            "53/53 [==============================] - 37s 700ms/step - loss: 0.7051 - accuracy: 0.7157 - val_loss: 0.6872 - val_accuracy: 0.7088\n",
            "Epoch 35/250\n",
            "53/53 [==============================] - 37s 700ms/step - loss: 0.6922 - accuracy: 0.7171 - val_loss: 0.6863 - val_accuracy: 0.6882\n",
            "Epoch 36/250\n",
            "53/53 [==============================] - 37s 697ms/step - loss: 0.7226 - accuracy: 0.6969 - val_loss: 0.7076 - val_accuracy: 0.6971\n",
            "Epoch 37/250\n",
            "53/53 [==============================] - 37s 697ms/step - loss: 0.7246 - accuracy: 0.6760 - val_loss: 0.7106 - val_accuracy: 0.6912\n",
            "Epoch 38/250\n",
            "53/53 [==============================] - 37s 704ms/step - loss: 0.6863 - accuracy: 0.7125 - val_loss: 0.6974 - val_accuracy: 0.6794\n",
            "Epoch 39/250\n",
            "53/53 [==============================] - 37s 700ms/step - loss: 0.6552 - accuracy: 0.7343 - val_loss: 0.7122 - val_accuracy: 0.7235\n",
            "Epoch 40/250\n",
            "53/53 [==============================] - 37s 700ms/step - loss: 0.7015 - accuracy: 0.6889 - val_loss: 0.7155 - val_accuracy: 0.6853\n",
            "Epoch 41/250\n",
            "53/53 [==============================] - 37s 701ms/step - loss: 0.6806 - accuracy: 0.7351 - val_loss: 0.7068 - val_accuracy: 0.6882\n",
            "Epoch 42/250\n",
            "53/53 [==============================] - 37s 700ms/step - loss: 0.6831 - accuracy: 0.7170 - val_loss: 0.7097 - val_accuracy: 0.6941\n",
            "Epoch 43/250\n",
            "53/53 [==============================] - 37s 703ms/step - loss: 0.6813 - accuracy: 0.7105 - val_loss: 0.7027 - val_accuracy: 0.7176\n",
            "Epoch 44/250\n",
            "53/53 [==============================] - 37s 698ms/step - loss: 0.7062 - accuracy: 0.7015 - val_loss: 0.7248 - val_accuracy: 0.6676\n",
            "Epoch 45/250\n",
            "53/53 [==============================] - 37s 698ms/step - loss: 0.7038 - accuracy: 0.7092 - val_loss: 0.7278 - val_accuracy: 0.6706\n",
            "Epoch 46/250\n",
            "53/53 [==============================] - 37s 700ms/step - loss: 0.6880 - accuracy: 0.7180 - val_loss: 0.6960 - val_accuracy: 0.7088\n",
            "Epoch 47/250\n",
            "53/53 [==============================] - 37s 697ms/step - loss: 0.7017 - accuracy: 0.7007 - val_loss: 0.7089 - val_accuracy: 0.7235\n",
            "Epoch 48/250\n",
            "53/53 [==============================] - 37s 696ms/step - loss: 0.6873 - accuracy: 0.7124 - val_loss: 0.6793 - val_accuracy: 0.7088\n",
            "Epoch 49/250\n",
            "53/53 [==============================] - 37s 696ms/step - loss: 0.7015 - accuracy: 0.6963 - val_loss: 0.6851 - val_accuracy: 0.7029\n",
            "Epoch 50/250\n",
            "53/53 [==============================] - ETA: 0s - loss: 0.6982 - accuracy: 0.6919\n",
            "Epoch 00050: saving model to /mydrive/dataset/Transfer Models/ResNet50/cp-0050.ckpt\n",
            "53/53 [==============================] - 38s 715ms/step - loss: 0.6982 - accuracy: 0.6921 - val_loss: 0.7129 - val_accuracy: 0.6853\n",
            "Epoch 51/250\n",
            "53/53 [==============================] - 38s 707ms/step - loss: 0.7138 - accuracy: 0.7048 - val_loss: 0.7059 - val_accuracy: 0.7059\n",
            "Epoch 52/250\n",
            "53/53 [==============================] - 37s 696ms/step - loss: 0.6982 - accuracy: 0.7047 - val_loss: 0.7200 - val_accuracy: 0.7059\n",
            "Epoch 53/250\n",
            "53/53 [==============================] - 37s 697ms/step - loss: 0.6895 - accuracy: 0.7094 - val_loss: 0.7469 - val_accuracy: 0.6353\n",
            "Epoch 54/250\n",
            "53/53 [==============================] - 37s 701ms/step - loss: 0.6874 - accuracy: 0.7082 - val_loss: 0.6872 - val_accuracy: 0.6824\n",
            "Epoch 55/250\n",
            "53/53 [==============================] - 37s 696ms/step - loss: 0.6974 - accuracy: 0.7177 - val_loss: 0.6812 - val_accuracy: 0.7088\n",
            "Epoch 56/250\n",
            "53/53 [==============================] - 37s 698ms/step - loss: 0.6827 - accuracy: 0.7197 - val_loss: 0.7099 - val_accuracy: 0.6853\n",
            "Epoch 57/250\n",
            "53/53 [==============================] - 37s 695ms/step - loss: 0.6631 - accuracy: 0.7211 - val_loss: 0.6976 - val_accuracy: 0.6824\n",
            "Epoch 58/250\n",
            "53/53 [==============================] - 37s 698ms/step - loss: 0.6915 - accuracy: 0.7156 - val_loss: 0.7000 - val_accuracy: 0.6882\n",
            "Epoch 59/250\n",
            "53/53 [==============================] - 37s 693ms/step - loss: 0.6954 - accuracy: 0.7031 - val_loss: 0.7524 - val_accuracy: 0.6412\n",
            "Epoch 60/250\n",
            "53/53 [==============================] - 37s 695ms/step - loss: 0.6980 - accuracy: 0.7161 - val_loss: 0.7481 - val_accuracy: 0.6647\n",
            "Epoch 61/250\n",
            "53/53 [==============================] - 37s 693ms/step - loss: 0.7013 - accuracy: 0.7114 - val_loss: 0.7149 - val_accuracy: 0.7118\n",
            "Epoch 62/250\n",
            "53/53 [==============================] - 37s 693ms/step - loss: 0.6828 - accuracy: 0.7095 - val_loss: 0.7077 - val_accuracy: 0.6824\n",
            "Epoch 63/250\n",
            "53/53 [==============================] - 37s 699ms/step - loss: 0.6700 - accuracy: 0.7176 - val_loss: 0.7704 - val_accuracy: 0.6294\n",
            "Epoch 64/250\n",
            "53/53 [==============================] - 37s 692ms/step - loss: 0.6939 - accuracy: 0.7126 - val_loss: 0.7109 - val_accuracy: 0.7000\n",
            "Epoch 65/250\n",
            "53/53 [==============================] - 37s 693ms/step - loss: 0.6700 - accuracy: 0.7221 - val_loss: 0.6867 - val_accuracy: 0.7088\n",
            "Epoch 66/250\n",
            "53/53 [==============================] - 37s 690ms/step - loss: 0.6757 - accuracy: 0.7158 - val_loss: 0.6803 - val_accuracy: 0.7206\n",
            "Epoch 67/250\n",
            "53/53 [==============================] - 37s 693ms/step - loss: 0.6606 - accuracy: 0.7259 - val_loss: 0.6616 - val_accuracy: 0.7118\n",
            "Epoch 68/250\n",
            "53/53 [==============================] - 37s 694ms/step - loss: 0.6914 - accuracy: 0.7102 - val_loss: 0.7296 - val_accuracy: 0.6971\n",
            "Epoch 69/250\n",
            "53/53 [==============================] - 37s 692ms/step - loss: 0.6838 - accuracy: 0.7187 - val_loss: 0.7639 - val_accuracy: 0.6500\n",
            "Epoch 70/250\n",
            "53/53 [==============================] - 37s 692ms/step - loss: 0.6684 - accuracy: 0.7120 - val_loss: 0.7124 - val_accuracy: 0.6941\n",
            "Epoch 71/250\n",
            "53/53 [==============================] - 37s 696ms/step - loss: 0.7057 - accuracy: 0.7032 - val_loss: 0.6932 - val_accuracy: 0.6853\n",
            "Epoch 72/250\n",
            "53/53 [==============================] - 37s 691ms/step - loss: 0.6837 - accuracy: 0.7004 - val_loss: 0.7084 - val_accuracy: 0.6912\n",
            "Epoch 73/250\n",
            "53/53 [==============================] - 37s 690ms/step - loss: 0.6722 - accuracy: 0.7218 - val_loss: 0.6766 - val_accuracy: 0.7265\n",
            "Epoch 74/250\n",
            "53/53 [==============================] - 37s 693ms/step - loss: 0.6750 - accuracy: 0.7219 - val_loss: 0.7111 - val_accuracy: 0.6882\n",
            "Epoch 75/250\n",
            "53/53 [==============================] - 37s 690ms/step - loss: 0.6817 - accuracy: 0.7202 - val_loss: 0.6995 - val_accuracy: 0.7176\n",
            "Epoch 76/250\n",
            "53/53 [==============================] - 37s 693ms/step - loss: 0.6951 - accuracy: 0.7087 - val_loss: 0.6749 - val_accuracy: 0.7088\n",
            "Epoch 77/250\n",
            "53/53 [==============================] - 37s 691ms/step - loss: 0.6863 - accuracy: 0.7117 - val_loss: 0.6756 - val_accuracy: 0.7147\n",
            "Epoch 78/250\n",
            "53/53 [==============================] - 37s 692ms/step - loss: 0.6985 - accuracy: 0.7062 - val_loss: 0.6958 - val_accuracy: 0.6912\n",
            "Epoch 79/250\n",
            "53/53 [==============================] - 37s 690ms/step - loss: 0.6538 - accuracy: 0.7219 - val_loss: 0.7072 - val_accuracy: 0.6912\n",
            "Epoch 80/250\n",
            "53/53 [==============================] - 37s 698ms/step - loss: 0.6892 - accuracy: 0.6943 - val_loss: 0.6892 - val_accuracy: 0.7059\n",
            "Epoch 81/250\n",
            "53/53 [==============================] - 37s 691ms/step - loss: 0.6856 - accuracy: 0.7189 - val_loss: 0.6923 - val_accuracy: 0.6971\n",
            "Epoch 82/250\n",
            "53/53 [==============================] - 37s 692ms/step - loss: 0.6703 - accuracy: 0.7265 - val_loss: 0.6971 - val_accuracy: 0.6853\n",
            "Epoch 83/250\n",
            "53/53 [==============================] - 37s 692ms/step - loss: 0.6646 - accuracy: 0.7203 - val_loss: 0.7194 - val_accuracy: 0.6941\n",
            "Epoch 84/250\n",
            "53/53 [==============================] - 37s 694ms/step - loss: 0.6582 - accuracy: 0.7283 - val_loss: 0.6930 - val_accuracy: 0.6971\n",
            "Epoch 85/250\n",
            "53/53 [==============================] - 37s 692ms/step - loss: 0.6975 - accuracy: 0.7024 - val_loss: 0.7013 - val_accuracy: 0.6971\n",
            "Epoch 86/250\n",
            "53/53 [==============================] - 37s 692ms/step - loss: 0.6715 - accuracy: 0.7165 - val_loss: 0.6886 - val_accuracy: 0.7118\n",
            "Epoch 87/250\n",
            "53/53 [==============================] - 37s 693ms/step - loss: 0.6729 - accuracy: 0.7217 - val_loss: 0.7032 - val_accuracy: 0.6882\n",
            "Epoch 88/250\n",
            "53/53 [==============================] - 37s 695ms/step - loss: 0.6739 - accuracy: 0.7208 - val_loss: 0.7572 - val_accuracy: 0.6235\n",
            "Epoch 89/250\n",
            "53/53 [==============================] - 37s 693ms/step - loss: 0.6909 - accuracy: 0.7116 - val_loss: 0.6839 - val_accuracy: 0.7118\n",
            "Epoch 90/250\n",
            "53/53 [==============================] - 37s 689ms/step - loss: 0.6662 - accuracy: 0.7157 - val_loss: 0.6856 - val_accuracy: 0.6912\n",
            "Epoch 91/250\n",
            "53/53 [==============================] - 37s 693ms/step - loss: 0.6880 - accuracy: 0.7093 - val_loss: 0.6692 - val_accuracy: 0.7235\n",
            "Epoch 92/250\n",
            "53/53 [==============================] - 37s 693ms/step - loss: 0.6749 - accuracy: 0.7154 - val_loss: 0.7483 - val_accuracy: 0.6559\n",
            "Epoch 93/250\n",
            "53/53 [==============================] - 37s 697ms/step - loss: 0.6549 - accuracy: 0.7221 - val_loss: 0.7281 - val_accuracy: 0.6676\n",
            "Epoch 94/250\n",
            "53/53 [==============================] - 37s 693ms/step - loss: 0.6912 - accuracy: 0.7122 - val_loss: 0.7083 - val_accuracy: 0.6882\n",
            "Epoch 95/250\n",
            "53/53 [==============================] - 37s 691ms/step - loss: 0.6855 - accuracy: 0.7168 - val_loss: 0.6990 - val_accuracy: 0.7029\n",
            "Epoch 96/250\n",
            "53/53 [==============================] - 37s 693ms/step - loss: 0.6366 - accuracy: 0.7362 - val_loss: 0.7396 - val_accuracy: 0.6706\n",
            "Epoch 97/250\n",
            "53/53 [==============================] - 37s 698ms/step - loss: 0.6605 - accuracy: 0.7220 - val_loss: 0.7191 - val_accuracy: 0.6853\n",
            "Epoch 98/250\n",
            "53/53 [==============================] - 37s 696ms/step - loss: 0.6640 - accuracy: 0.7225 - val_loss: 0.7281 - val_accuracy: 0.7059\n",
            "Epoch 99/250\n",
            "53/53 [==============================] - 37s 698ms/step - loss: 0.6639 - accuracy: 0.7136 - val_loss: 0.7142 - val_accuracy: 0.6882\n",
            "Epoch 100/250\n",
            "53/53 [==============================] - ETA: 0s - loss: 0.6750 - accuracy: 0.7198\n",
            "Epoch 00100: saving model to /mydrive/dataset/Transfer Models/ResNet50/cp-0100.ckpt\n",
            "53/53 [==============================] - 38s 715ms/step - loss: 0.6750 - accuracy: 0.7197 - val_loss: 0.6690 - val_accuracy: 0.7265\n",
            "Epoch 101/250\n",
            "53/53 [==============================] - 37s 700ms/step - loss: 0.6845 - accuracy: 0.7236 - val_loss: 0.7181 - val_accuracy: 0.6706\n",
            "Epoch 102/250\n",
            "53/53 [==============================] - 37s 693ms/step - loss: 0.6878 - accuracy: 0.7039 - val_loss: 0.6900 - val_accuracy: 0.6882\n",
            "Epoch 103/250\n",
            "53/53 [==============================] - 37s 693ms/step - loss: 0.6875 - accuracy: 0.7162 - val_loss: 0.7102 - val_accuracy: 0.6647\n",
            "Epoch 104/250\n",
            "53/53 [==============================] - 37s 694ms/step - loss: 0.6724 - accuracy: 0.7243 - val_loss: 0.7412 - val_accuracy: 0.6971\n",
            "Epoch 105/250\n",
            "53/53 [==============================] - 37s 696ms/step - loss: 0.6880 - accuracy: 0.7077 - val_loss: 0.7165 - val_accuracy: 0.6912\n",
            "Epoch 106/250\n",
            "53/53 [==============================] - 37s 691ms/step - loss: 0.6655 - accuracy: 0.7197 - val_loss: 0.6988 - val_accuracy: 0.6735\n",
            "Epoch 107/250\n",
            "53/53 [==============================] - 37s 696ms/step - loss: 0.6518 - accuracy: 0.7212 - val_loss: 0.7031 - val_accuracy: 0.6912\n",
            "Epoch 108/250\n",
            "53/53 [==============================] - 37s 694ms/step - loss: 0.6821 - accuracy: 0.7195 - val_loss: 0.7041 - val_accuracy: 0.6971\n",
            "Epoch 109/250\n",
            "53/53 [==============================] - 37s 698ms/step - loss: 0.6913 - accuracy: 0.6984 - val_loss: 0.6689 - val_accuracy: 0.7029\n",
            "Epoch 110/250\n",
            "53/53 [==============================] - 37s 694ms/step - loss: 0.6634 - accuracy: 0.7206 - val_loss: 0.6847 - val_accuracy: 0.7059\n",
            "Epoch 111/250\n",
            "53/53 [==============================] - 37s 695ms/step - loss: 0.6723 - accuracy: 0.7093 - val_loss: 0.6968 - val_accuracy: 0.6824\n",
            "Epoch 112/250\n",
            "53/53 [==============================] - 37s 694ms/step - loss: 0.6705 - accuracy: 0.7190 - val_loss: 0.7149 - val_accuracy: 0.6882\n",
            "Epoch 113/250\n",
            "53/53 [==============================] - 37s 699ms/step - loss: 0.6717 - accuracy: 0.7165 - val_loss: 0.7183 - val_accuracy: 0.6706\n",
            "Epoch 114/250\n",
            "53/53 [==============================] - 37s 695ms/step - loss: 0.6663 - accuracy: 0.7226 - val_loss: 0.7063 - val_accuracy: 0.6794\n",
            "Epoch 115/250\n",
            "53/53 [==============================] - 37s 698ms/step - loss: 0.6709 - accuracy: 0.7186 - val_loss: 0.7125 - val_accuracy: 0.6971\n",
            "Epoch 116/250\n",
            "53/53 [==============================] - 37s 696ms/step - loss: 0.6492 - accuracy: 0.7256 - val_loss: 0.6725 - val_accuracy: 0.7294\n",
            "Epoch 117/250\n",
            "53/53 [==============================] - 37s 693ms/step - loss: 0.6653 - accuracy: 0.7229 - val_loss: 0.6909 - val_accuracy: 0.6941\n",
            "Epoch 118/250\n",
            "53/53 [==============================] - 37s 698ms/step - loss: 0.7072 - accuracy: 0.7126 - val_loss: 0.7251 - val_accuracy: 0.6706\n",
            "Epoch 119/250\n",
            "53/53 [==============================] - 37s 691ms/step - loss: 0.6599 - accuracy: 0.7142 - val_loss: 0.7346 - val_accuracy: 0.6735\n",
            "Epoch 120/250\n",
            "53/53 [==============================] - 37s 693ms/step - loss: 0.6677 - accuracy: 0.7225 - val_loss: 0.7446 - val_accuracy: 0.6647\n",
            "Epoch 121/250\n",
            "53/53 [==============================] - 37s 692ms/step - loss: 0.6658 - accuracy: 0.7084 - val_loss: 0.7158 - val_accuracy: 0.6912\n",
            "Epoch 122/250\n",
            "53/53 [==============================] - 37s 698ms/step - loss: 0.6778 - accuracy: 0.7246 - val_loss: 0.6897 - val_accuracy: 0.6912\n",
            "Epoch 123/250\n",
            "53/53 [==============================] - 37s 692ms/step - loss: 0.6603 - accuracy: 0.7212 - val_loss: 0.7710 - val_accuracy: 0.6265\n",
            "Epoch 124/250\n",
            "53/53 [==============================] - 37s 692ms/step - loss: 0.6691 - accuracy: 0.7226 - val_loss: 0.6830 - val_accuracy: 0.7324\n",
            "Epoch 125/250\n",
            "53/53 [==============================] - 37s 693ms/step - loss: 0.6612 - accuracy: 0.7278 - val_loss: 0.7044 - val_accuracy: 0.6882\n",
            "Epoch 126/250\n",
            "53/53 [==============================] - 37s 695ms/step - loss: 0.6616 - accuracy: 0.7197 - val_loss: 0.7439 - val_accuracy: 0.6941\n",
            "Epoch 127/250\n",
            "53/53 [==============================] - 37s 690ms/step - loss: 0.6777 - accuracy: 0.7209 - val_loss: 0.6767 - val_accuracy: 0.7147\n",
            "Epoch 128/250\n",
            "53/53 [==============================] - 37s 694ms/step - loss: 0.6646 - accuracy: 0.7201 - val_loss: 0.6749 - val_accuracy: 0.7147\n",
            "Epoch 129/250\n",
            "53/53 [==============================] - 37s 695ms/step - loss: 0.6687 - accuracy: 0.7273 - val_loss: 0.7131 - val_accuracy: 0.6676\n",
            "Epoch 130/250\n",
            "53/53 [==============================] - 37s 699ms/step - loss: 0.6711 - accuracy: 0.7159 - val_loss: 0.7693 - val_accuracy: 0.6353\n",
            "Epoch 131/250\n",
            "53/53 [==============================] - 37s 698ms/step - loss: 0.6610 - accuracy: 0.7340 - val_loss: 0.7067 - val_accuracy: 0.6765\n",
            "Epoch 132/250\n",
            "53/53 [==============================] - 37s 691ms/step - loss: 0.6551 - accuracy: 0.7146 - val_loss: 0.6893 - val_accuracy: 0.6853\n",
            "Epoch 133/250\n",
            "53/53 [==============================] - 37s 694ms/step - loss: 0.6468 - accuracy: 0.7291 - val_loss: 0.7211 - val_accuracy: 0.6471\n",
            "Epoch 134/250\n",
            "53/53 [==============================] - 37s 699ms/step - loss: 0.6860 - accuracy: 0.7084 - val_loss: 0.7073 - val_accuracy: 0.7029\n",
            "Epoch 135/250\n",
            "53/53 [==============================] - 37s 705ms/step - loss: 0.6425 - accuracy: 0.7338 - val_loss: 0.6717 - val_accuracy: 0.6941\n",
            "Epoch 136/250\n",
            "53/53 [==============================] - 37s 700ms/step - loss: 0.6479 - accuracy: 0.7286 - val_loss: 0.6588 - val_accuracy: 0.6912\n",
            "Epoch 137/250\n",
            "53/53 [==============================] - 37s 697ms/step - loss: 0.6625 - accuracy: 0.7252 - val_loss: 0.6663 - val_accuracy: 0.7029\n",
            "Epoch 138/250\n",
            "53/53 [==============================] - 37s 698ms/step - loss: 0.6463 - accuracy: 0.7198 - val_loss: 0.7874 - val_accuracy: 0.5941\n",
            "Epoch 139/250\n",
            "53/53 [==============================] - 37s 698ms/step - loss: 0.6624 - accuracy: 0.7103 - val_loss: 0.7342 - val_accuracy: 0.6647\n",
            "Epoch 140/250\n",
            "53/53 [==============================] - 37s 698ms/step - loss: 0.6466 - accuracy: 0.7311 - val_loss: 0.7018 - val_accuracy: 0.6971\n",
            "Epoch 141/250\n",
            "53/53 [==============================] - 37s 697ms/step - loss: 0.6736 - accuracy: 0.7231 - val_loss: 0.6718 - val_accuracy: 0.7000\n",
            "Epoch 142/250\n",
            "53/53 [==============================] - 37s 698ms/step - loss: 0.6397 - accuracy: 0.7309 - val_loss: 0.6709 - val_accuracy: 0.7029\n",
            "Epoch 143/250\n",
            "53/53 [==============================] - 37s 696ms/step - loss: 0.6381 - accuracy: 0.7416 - val_loss: 0.7633 - val_accuracy: 0.6441\n",
            "Epoch 144/250\n",
            "53/53 [==============================] - 37s 697ms/step - loss: 0.6633 - accuracy: 0.7139 - val_loss: 0.7028 - val_accuracy: 0.6882\n",
            "Epoch 145/250\n",
            "53/53 [==============================] - 37s 695ms/step - loss: 0.6510 - accuracy: 0.7227 - val_loss: 0.7014 - val_accuracy: 0.6706\n",
            "Epoch 146/250\n",
            "53/53 [==============================] - 37s 697ms/step - loss: 0.6669 - accuracy: 0.7197 - val_loss: 0.6599 - val_accuracy: 0.6941\n",
            "Epoch 147/250\n",
            "53/53 [==============================] - 37s 700ms/step - loss: 0.6644 - accuracy: 0.7184 - val_loss: 0.6789 - val_accuracy: 0.7118\n",
            "Epoch 148/250\n",
            "53/53 [==============================] - 37s 696ms/step - loss: 0.6668 - accuracy: 0.7281 - val_loss: 0.6985 - val_accuracy: 0.6647\n",
            "Epoch 149/250\n",
            "53/53 [==============================] - 37s 699ms/step - loss: 0.6389 - accuracy: 0.7360 - val_loss: 0.6987 - val_accuracy: 0.6794\n",
            "Epoch 150/250\n",
            "53/53 [==============================] - ETA: 0s - loss: 0.6580 - accuracy: 0.7194\n",
            "Epoch 00150: saving model to /mydrive/dataset/Transfer Models/ResNet50/cp-0150.ckpt\n",
            "53/53 [==============================] - 38s 710ms/step - loss: 0.6581 - accuracy: 0.7193 - val_loss: 0.7086 - val_accuracy: 0.6794\n",
            "Epoch 151/250\n",
            "53/53 [==============================] - 37s 699ms/step - loss: 0.6431 - accuracy: 0.7343 - val_loss: 0.6605 - val_accuracy: 0.6941\n",
            "Epoch 152/250\n",
            "53/53 [==============================] - 37s 691ms/step - loss: 0.6553 - accuracy: 0.7259 - val_loss: 0.6762 - val_accuracy: 0.6882\n",
            "Epoch 153/250\n",
            "53/53 [==============================] - 37s 691ms/step - loss: 0.6515 - accuracy: 0.7327 - val_loss: 0.7194 - val_accuracy: 0.6882\n",
            "Epoch 154/250\n",
            "53/53 [==============================] - 37s 691ms/step - loss: 0.6456 - accuracy: 0.7135 - val_loss: 0.6941 - val_accuracy: 0.6794\n",
            "Epoch 155/250\n",
            "53/53 [==============================] - 37s 697ms/step - loss: 0.6339 - accuracy: 0.7406 - val_loss: 0.6715 - val_accuracy: 0.7029\n",
            "Epoch 156/250\n",
            "53/53 [==============================] - 37s 697ms/step - loss: 0.6602 - accuracy: 0.7198 - val_loss: 0.7108 - val_accuracy: 0.6824\n",
            "Epoch 157/250\n",
            "53/53 [==============================] - 37s 694ms/step - loss: 0.6681 - accuracy: 0.7221 - val_loss: 0.6751 - val_accuracy: 0.6853\n",
            "Epoch 158/250\n",
            "53/53 [==============================] - 37s 690ms/step - loss: 0.6490 - accuracy: 0.7325 - val_loss: 0.6921 - val_accuracy: 0.7059\n",
            "Epoch 159/250\n",
            "53/53 [==============================] - 37s 693ms/step - loss: 0.6487 - accuracy: 0.7351 - val_loss: 0.6919 - val_accuracy: 0.6912\n",
            "Epoch 160/250\n",
            "53/53 [==============================] - 37s 691ms/step - loss: 0.6427 - accuracy: 0.7285 - val_loss: 0.7527 - val_accuracy: 0.6353\n",
            "Epoch 161/250\n",
            "53/53 [==============================] - 37s 692ms/step - loss: 0.6266 - accuracy: 0.7418 - val_loss: 0.7169 - val_accuracy: 0.6882\n",
            "Epoch 162/250\n",
            "53/53 [==============================] - 37s 692ms/step - loss: 0.6664 - accuracy: 0.7188 - val_loss: 0.7389 - val_accuracy: 0.6441\n",
            "Epoch 163/250\n",
            "53/53 [==============================] - 37s 694ms/step - loss: 0.6761 - accuracy: 0.7110 - val_loss: 0.7077 - val_accuracy: 0.6824\n",
            "Epoch 164/250\n",
            "53/53 [==============================] - 37s 695ms/step - loss: 0.6682 - accuracy: 0.7172 - val_loss: 0.6929 - val_accuracy: 0.7000\n",
            "Epoch 165/250\n",
            "53/53 [==============================] - 37s 691ms/step - loss: 0.6486 - accuracy: 0.7282 - val_loss: 0.6657 - val_accuracy: 0.7059\n",
            "Epoch 166/250\n",
            "53/53 [==============================] - 37s 694ms/step - loss: 0.6586 - accuracy: 0.7325 - val_loss: 0.6904 - val_accuracy: 0.7118\n",
            "Epoch 167/250\n",
            "53/53 [==============================] - 37s 694ms/step - loss: 0.6577 - accuracy: 0.7163 - val_loss: 0.7114 - val_accuracy: 0.6882\n",
            "Epoch 168/250\n",
            "53/53 [==============================] - 37s 692ms/step - loss: 0.6787 - accuracy: 0.7189 - val_loss: 0.7157 - val_accuracy: 0.6853\n",
            "Epoch 169/250\n",
            "53/53 [==============================] - 37s 692ms/step - loss: 0.6421 - accuracy: 0.7386 - val_loss: 0.7626 - val_accuracy: 0.6853\n",
            "Epoch 170/250\n",
            "53/53 [==============================] - 37s 691ms/step - loss: 0.6519 - accuracy: 0.7314 - val_loss: 0.7326 - val_accuracy: 0.6676\n",
            "Epoch 171/250\n",
            "53/53 [==============================] - 37s 691ms/step - loss: 0.6291 - accuracy: 0.7308 - val_loss: 0.7527 - val_accuracy: 0.6176\n",
            "Epoch 172/250\n",
            "53/53 [==============================] - 37s 694ms/step - loss: 0.6663 - accuracy: 0.7081 - val_loss: 0.7135 - val_accuracy: 0.6647\n",
            "Epoch 173/250\n",
            "53/53 [==============================] - 37s 693ms/step - loss: 0.6580 - accuracy: 0.7292 - val_loss: 0.6598 - val_accuracy: 0.7088\n",
            "Epoch 174/250\n",
            "53/53 [==============================] - 37s 692ms/step - loss: 0.6518 - accuracy: 0.7299 - val_loss: 0.6516 - val_accuracy: 0.7029\n",
            "Epoch 175/250\n",
            "53/53 [==============================] - 37s 696ms/step - loss: 0.6448 - accuracy: 0.7338 - val_loss: 0.6756 - val_accuracy: 0.7265\n",
            "Epoch 176/250\n",
            "53/53 [==============================] - 37s 691ms/step - loss: 0.6554 - accuracy: 0.7208 - val_loss: 0.7279 - val_accuracy: 0.6882\n",
            "Epoch 177/250\n",
            "53/53 [==============================] - 37s 694ms/step - loss: 0.6368 - accuracy: 0.7320 - val_loss: 0.6815 - val_accuracy: 0.6971\n",
            "Epoch 178/250\n",
            "53/53 [==============================] - 37s 691ms/step - loss: 0.6417 - accuracy: 0.7374 - val_loss: 0.6691 - val_accuracy: 0.7118\n",
            "Epoch 179/250\n",
            "53/53 [==============================] - 37s 695ms/step - loss: 0.6222 - accuracy: 0.7430 - val_loss: 0.7056 - val_accuracy: 0.6971\n",
            "Epoch 180/250\n",
            "53/53 [==============================] - 37s 692ms/step - loss: 0.6578 - accuracy: 0.7349 - val_loss: 0.7262 - val_accuracy: 0.6618\n",
            "Epoch 181/250\n",
            "53/53 [==============================] - 37s 697ms/step - loss: 0.6576 - accuracy: 0.7211 - val_loss: 0.6807 - val_accuracy: 0.6912\n",
            "Epoch 182/250\n",
            "53/53 [==============================] - 37s 692ms/step - loss: 0.6625 - accuracy: 0.7237 - val_loss: 0.6510 - val_accuracy: 0.7118\n",
            "Epoch 183/250\n",
            "53/53 [==============================] - 37s 692ms/step - loss: 0.6192 - accuracy: 0.7394 - val_loss: 0.6479 - val_accuracy: 0.7088\n",
            "Epoch 184/250\n",
            "53/53 [==============================] - 37s 695ms/step - loss: 0.6779 - accuracy: 0.7068 - val_loss: 0.7038 - val_accuracy: 0.6853\n",
            "Epoch 185/250\n",
            "53/53 [==============================] - 37s 691ms/step - loss: 0.6474 - accuracy: 0.7261 - val_loss: 0.6911 - val_accuracy: 0.6941\n",
            "Epoch 186/250\n",
            "53/53 [==============================] - 37s 692ms/step - loss: 0.6512 - accuracy: 0.7307 - val_loss: 0.6679 - val_accuracy: 0.6971\n",
            "Epoch 187/250\n",
            "53/53 [==============================] - 37s 690ms/step - loss: 0.6350 - accuracy: 0.7264 - val_loss: 0.6503 - val_accuracy: 0.7294\n",
            "Epoch 188/250\n",
            "53/53 [==============================] - 37s 694ms/step - loss: 0.6688 - accuracy: 0.7241 - val_loss: 0.6757 - val_accuracy: 0.7147\n",
            "Epoch 189/250\n",
            "53/53 [==============================] - 37s 693ms/step - loss: 0.6822 - accuracy: 0.7099 - val_loss: 0.6695 - val_accuracy: 0.7235\n",
            "Epoch 190/250\n",
            "53/53 [==============================] - 37s 698ms/step - loss: 0.6501 - accuracy: 0.7359 - val_loss: 0.6845 - val_accuracy: 0.7176\n",
            "Epoch 191/250\n",
            "53/53 [==============================] - 37s 692ms/step - loss: 0.6399 - accuracy: 0.7335 - val_loss: 0.7105 - val_accuracy: 0.6559\n",
            "Epoch 192/250\n",
            "53/53 [==============================] - 37s 697ms/step - loss: 0.6564 - accuracy: 0.7174 - val_loss: 0.6851 - val_accuracy: 0.6882\n",
            "Epoch 193/250\n",
            "53/53 [==============================] - 37s 701ms/step - loss: 0.6459 - accuracy: 0.7355 - val_loss: 0.7160 - val_accuracy: 0.6941\n",
            "Epoch 194/250\n",
            "53/53 [==============================] - 38s 713ms/step - loss: 0.6720 - accuracy: 0.7102 - val_loss: 0.7279 - val_accuracy: 0.6882\n",
            "Epoch 195/250\n",
            "53/53 [==============================] - 37s 697ms/step - loss: 0.6587 - accuracy: 0.7201 - val_loss: 0.7147 - val_accuracy: 0.6765\n",
            "Epoch 196/250\n",
            "53/53 [==============================] - 37s 693ms/step - loss: 0.6412 - accuracy: 0.7267 - val_loss: 0.7337 - val_accuracy: 0.6647\n",
            "Epoch 197/250\n",
            "53/53 [==============================] - 37s 696ms/step - loss: 0.6179 - accuracy: 0.7380 - val_loss: 0.6703 - val_accuracy: 0.7118\n",
            "Epoch 198/250\n",
            "53/53 [==============================] - 37s 699ms/step - loss: 0.6572 - accuracy: 0.7134 - val_loss: 0.6820 - val_accuracy: 0.7206\n",
            "Epoch 199/250\n",
            "53/53 [==============================] - 37s 696ms/step - loss: 0.6394 - accuracy: 0.7381 - val_loss: 0.6571 - val_accuracy: 0.7118\n",
            "Epoch 200/250\n",
            "53/53 [==============================] - ETA: 0s - loss: 0.6439 - accuracy: 0.7241\n",
            "Epoch 00200: saving model to /mydrive/dataset/Transfer Models/ResNet50/cp-0200.ckpt\n",
            "53/53 [==============================] - 38s 711ms/step - loss: 0.6440 - accuracy: 0.7241 - val_loss: 0.6945 - val_accuracy: 0.6941\n",
            "Epoch 201/250\n",
            "53/53 [==============================] - 37s 703ms/step - loss: 0.6690 - accuracy: 0.7128 - val_loss: 0.7016 - val_accuracy: 0.6676\n",
            "Epoch 202/250\n",
            "53/53 [==============================] - 37s 690ms/step - loss: 0.6821 - accuracy: 0.7069 - val_loss: 0.6933 - val_accuracy: 0.6882\n",
            "Epoch 203/250\n",
            "53/53 [==============================] - 37s 695ms/step - loss: 0.6406 - accuracy: 0.7263 - val_loss: 0.7081 - val_accuracy: 0.6912\n",
            "Epoch 204/250\n",
            "53/53 [==============================] - 37s 692ms/step - loss: 0.6827 - accuracy: 0.7128 - val_loss: 0.7189 - val_accuracy: 0.6824\n",
            "Epoch 205/250\n",
            "53/53 [==============================] - 37s 695ms/step - loss: 0.6732 - accuracy: 0.7171 - val_loss: 0.6920 - val_accuracy: 0.6941\n",
            "Epoch 206/250\n",
            "53/53 [==============================] - 37s 700ms/step - loss: 0.6472 - accuracy: 0.7299 - val_loss: 0.6979 - val_accuracy: 0.6647\n",
            "Epoch 207/250\n",
            "53/53 [==============================] - 37s 693ms/step - loss: 0.6501 - accuracy: 0.7370 - val_loss: 0.6982 - val_accuracy: 0.7029\n",
            "Epoch 208/250\n",
            "53/53 [==============================] - 37s 693ms/step - loss: 0.6701 - accuracy: 0.7111 - val_loss: 0.6799 - val_accuracy: 0.6912\n",
            "Epoch 209/250\n",
            "53/53 [==============================] - 37s 694ms/step - loss: 0.6354 - accuracy: 0.7317 - val_loss: 0.6941 - val_accuracy: 0.6853\n",
            "Epoch 210/250\n",
            "53/53 [==============================] - 37s 694ms/step - loss: 0.6350 - accuracy: 0.7301 - val_loss: 0.7074 - val_accuracy: 0.6794\n",
            "Epoch 211/250\n",
            "53/53 [==============================] - 37s 691ms/step - loss: 0.6345 - accuracy: 0.7295 - val_loss: 0.7273 - val_accuracy: 0.6706\n",
            "Epoch 212/250\n",
            "53/53 [==============================] - 37s 694ms/step - loss: 0.6260 - accuracy: 0.7409 - val_loss: 0.6800 - val_accuracy: 0.7088\n",
            "Epoch 213/250\n",
            "53/53 [==============================] - 37s 691ms/step - loss: 0.6164 - accuracy: 0.7490 - val_loss: 0.6963 - val_accuracy: 0.6941\n",
            "Epoch 214/250\n",
            "53/53 [==============================] - 37s 695ms/step - loss: 0.6726 - accuracy: 0.7174 - val_loss: 0.6861 - val_accuracy: 0.7029\n",
            "Epoch 215/250\n",
            "53/53 [==============================] - 37s 694ms/step - loss: 0.6360 - accuracy: 0.7245 - val_loss: 0.6895 - val_accuracy: 0.6794\n",
            "Epoch 216/250\n",
            "53/53 [==============================] - 37s 693ms/step - loss: 0.6217 - accuracy: 0.7529 - val_loss: 0.6612 - val_accuracy: 0.7088\n",
            "Epoch 217/250\n",
            "53/53 [==============================] - 37s 695ms/step - loss: 0.6392 - accuracy: 0.7323 - val_loss: 0.7080 - val_accuracy: 0.7000\n",
            "Epoch 218/250\n",
            "53/53 [==============================] - 37s 691ms/step - loss: 0.6369 - accuracy: 0.7420 - val_loss: 0.7400 - val_accuracy: 0.6588\n",
            "Epoch 219/250\n",
            "53/53 [==============================] - 37s 695ms/step - loss: 0.6027 - accuracy: 0.7472 - val_loss: 0.7548 - val_accuracy: 0.6618\n",
            "Epoch 220/250\n",
            "53/53 [==============================] - 37s 692ms/step - loss: 0.6097 - accuracy: 0.7437 - val_loss: 0.6511 - val_accuracy: 0.7235\n",
            "Epoch 221/250\n",
            "53/53 [==============================] - 37s 693ms/step - loss: 0.6365 - accuracy: 0.7332 - val_loss: 0.6449 - val_accuracy: 0.7324\n",
            "Epoch 222/250\n",
            "53/53 [==============================] - 37s 693ms/step - loss: 0.6466 - accuracy: 0.7334 - val_loss: 0.6955 - val_accuracy: 0.7176\n",
            "Epoch 223/250\n",
            "53/53 [==============================] - 37s 699ms/step - loss: 0.6613 - accuracy: 0.7242 - val_loss: 0.7873 - val_accuracy: 0.6500\n",
            "Epoch 224/250\n",
            "53/53 [==============================] - 37s 692ms/step - loss: 0.6348 - accuracy: 0.7290 - val_loss: 0.6839 - val_accuracy: 0.7059\n",
            "Epoch 225/250\n",
            "53/53 [==============================] - 37s 693ms/step - loss: 0.6465 - accuracy: 0.7305 - val_loss: 0.6646 - val_accuracy: 0.7147\n",
            "Epoch 226/250\n",
            "53/53 [==============================] - 37s 693ms/step - loss: 0.6340 - accuracy: 0.7496 - val_loss: 0.7647 - val_accuracy: 0.6353\n",
            "Epoch 227/250\n",
            "53/53 [==============================] - 37s 694ms/step - loss: 0.6605 - accuracy: 0.7102 - val_loss: 0.7032 - val_accuracy: 0.6824\n",
            "Epoch 228/250\n",
            "53/53 [==============================] - 37s 692ms/step - loss: 0.6544 - accuracy: 0.7286 - val_loss: 0.6294 - val_accuracy: 0.7353\n",
            "Epoch 229/250\n",
            "53/53 [==============================] - 37s 690ms/step - loss: 0.6245 - accuracy: 0.7367 - val_loss: 0.6655 - val_accuracy: 0.7206\n",
            "Epoch 230/250\n",
            "53/53 [==============================] - 37s 695ms/step - loss: 0.6295 - accuracy: 0.7328 - val_loss: 0.6965 - val_accuracy: 0.6765\n",
            "Epoch 231/250\n",
            "53/53 [==============================] - 37s 696ms/step - loss: 0.6449 - accuracy: 0.7332 - val_loss: 0.7185 - val_accuracy: 0.6882\n",
            "Epoch 232/250\n",
            "53/53 [==============================] - 37s 696ms/step - loss: 0.6417 - accuracy: 0.7357 - val_loss: 0.6559 - val_accuracy: 0.7088\n",
            "Epoch 233/250\n",
            "53/53 [==============================] - 37s 692ms/step - loss: 0.6072 - accuracy: 0.7598 - val_loss: 0.6823 - val_accuracy: 0.6853\n",
            "Epoch 234/250\n",
            "53/53 [==============================] - 37s 694ms/step - loss: 0.6436 - accuracy: 0.7298 - val_loss: 0.7140 - val_accuracy: 0.6706\n",
            "Epoch 235/250\n",
            "53/53 [==============================] - 37s 692ms/step - loss: 0.6317 - accuracy: 0.7315 - val_loss: 0.7146 - val_accuracy: 0.6824\n",
            "Epoch 236/250\n",
            "53/53 [==============================] - 37s 693ms/step - loss: 0.6041 - accuracy: 0.7491 - val_loss: 0.6819 - val_accuracy: 0.6971\n",
            "Epoch 237/250\n",
            "53/53 [==============================] - 37s 695ms/step - loss: 0.6067 - accuracy: 0.7497 - val_loss: 0.6513 - val_accuracy: 0.7118\n",
            "Epoch 238/250\n",
            "53/53 [==============================] - 37s 694ms/step - loss: 0.6343 - accuracy: 0.7387 - val_loss: 0.6764 - val_accuracy: 0.6941\n",
            "Epoch 239/250\n",
            "53/53 [==============================] - 37s 695ms/step - loss: 0.6372 - accuracy: 0.7233 - val_loss: 0.7061 - val_accuracy: 0.6882\n",
            "Epoch 240/250\n",
            "53/53 [==============================] - 37s 696ms/step - loss: 0.6480 - accuracy: 0.7265 - val_loss: 0.6629 - val_accuracy: 0.7000\n",
            "Epoch 241/250\n",
            "53/53 [==============================] - 37s 695ms/step - loss: 0.6269 - accuracy: 0.7425 - val_loss: 0.6829 - val_accuracy: 0.6941\n",
            "Epoch 242/250\n",
            "53/53 [==============================] - 37s 697ms/step - loss: 0.6185 - accuracy: 0.7408 - val_loss: 0.7310 - val_accuracy: 0.6735\n",
            "Epoch 243/250\n",
            "53/53 [==============================] - 37s 699ms/step - loss: 0.6563 - accuracy: 0.7173 - val_loss: 0.6855 - val_accuracy: 0.7206\n",
            "Epoch 244/250\n",
            "53/53 [==============================] - 37s 694ms/step - loss: 0.6279 - accuracy: 0.7383 - val_loss: 0.6747 - val_accuracy: 0.7059\n",
            "Epoch 245/250\n",
            "53/53 [==============================] - 37s 695ms/step - loss: 0.6568 - accuracy: 0.7264 - val_loss: 0.6772 - val_accuracy: 0.7147\n",
            "Epoch 246/250\n",
            "53/53 [==============================] - 37s 694ms/step - loss: 0.6401 - accuracy: 0.7286 - val_loss: 0.6635 - val_accuracy: 0.6941\n",
            "Epoch 247/250\n",
            "53/53 [==============================] - 37s 696ms/step - loss: 0.6411 - accuracy: 0.7350 - val_loss: 0.7520 - val_accuracy: 0.6412\n",
            "Epoch 248/250\n",
            "53/53 [==============================] - 37s 700ms/step - loss: 0.6260 - accuracy: 0.7423 - val_loss: 0.6787 - val_accuracy: 0.7176\n",
            "Epoch 249/250\n",
            "53/53 [==============================] - 37s 695ms/step - loss: 0.6399 - accuracy: 0.7464 - val_loss: 0.6716 - val_accuracy: 0.7088\n",
            "Epoch 250/250\n",
            "53/53 [==============================] - ETA: 0s - loss: 0.6460 - accuracy: 0.7238\n",
            "Epoch 00250: saving model to /mydrive/dataset/Transfer Models/ResNet50/cp-0250.ckpt\n",
            "53/53 [==============================] - 38s 716ms/step - loss: 0.6458 - accuracy: 0.7240 - val_loss: 0.6690 - val_accuracy: 0.7235\n"
          ],
          "name": "stdout"
        }
      ]
    },
    {
      "cell_type": "code",
      "metadata": {
        "id": "DSjSSGc4DNDA",
        "colab": {
          "base_uri": "https://localhost:8080/"
        },
        "outputId": "5c5992f5-719a-4e23-fe1b-ac2cb37e7907"
      },
      "source": [
        "model.save('/mydrive/dataset/Transfer Models/ResNet50/Resnet_50.model')"
      ],
      "execution_count": null,
      "outputs": [
        {
          "output_type": "stream",
          "text": [
            "INFO:tensorflow:Assets written to: /mydrive/dataset/Transfer Models/ResNet50/Resnet_50.model/assets\n"
          ],
          "name": "stdout"
        }
      ]
    },
    {
      "cell_type": "code",
      "metadata": {
        "id": "kJfHeM_B6uiY",
        "colab": {
          "base_uri": "https://localhost:8080/",
          "height": 279
        },
        "outputId": "eeb403bf-d81f-466b-d546-c710b0034468"
      },
      "source": [
        "csv = '/mydrive/dataset/Transfer Models/ResNet50/model_history_log.csv'\n",
        "x = pd.read_csv(csv, usecols=[0])\n",
        "y = pd.read_csv(csv, usecols=[1,3])\n",
        "plt.plot(x, y)\n",
        "plt.ylabel('accuracy')\n",
        "plt.xlabel('epoch')\n",
        "plt.legend(['train', 'validation'],loc='lower right')\n",
        "abc='A v E'\n",
        "plt.savefig(f'/mydrive/dataset/SI TL/ResNet50/{abc}.png',bbox_inches=\"tight\",dpi=520)\n",
        "plt.show()"
      ],
      "execution_count": null,
      "outputs": [
        {
          "output_type": "display_data",
          "data": {
            "image/png": "[encoded data removed]",
            "text/plain": [
              "<Figure size 432x288 with 1 Axes>"
            ]
          },
          "metadata": {
            "tags": [],
            "needs_background": "light"
          }
        }
      ]
    },
    {
      "cell_type": "code",
      "metadata": {
        "colab": {
          "base_uri": "https://localhost:8080/",
          "height": 279
        },
        "id": "j-vcaWpw9EvL",
        "outputId": "ab91da16-1deb-4416-96a2-9daa845f950b"
      },
      "source": [
        "x = pd.read_csv(csv, usecols=[0])\n",
        "y = pd.read_csv(csv, usecols=[2,4])\n",
        "plt.plot(x, y)\n",
        "plt.ylabel('loss')\n",
        "plt.xlabel('epoch')\n",
        "plt.legend(['train', 'validation'],loc='upper right')\n",
        "abc='L v E'\n",
        "plt.savefig(f'/mydrive/dataset/SI TL/ResNet50/{abc}.png',bbox_inches=\"tight\",dpi=520)\n",
        "plt.show()"
      ],
      "execution_count": null,
      "outputs": [
        {
          "output_type": "display_data",
          "data": {
            "image/png": "[encoded data removed]",
            "text/plain": [
              "<Figure size 432x288 with 1 Axes>"
            ]
          },
          "metadata": {
            "tags": [],
            "needs_background": "light"
          }
        }
      ]
    },
    {
      "cell_type": "code",
      "metadata": {
        "colab": {
          "base_uri": "https://localhost:8080/"
        },
        "id": "f1DnF7drsqrV",
        "outputId": "09f5e919-2cd0-44c3-c87e-807c7148edf8"
      },
      "source": [
        "train_generator.class_indices"
      ],
      "execution_count": null,
      "outputs": [
        {
          "output_type": "execute_result",
          "data": {
            "text/plain": [
              "{'Empty': 0, 'High': 1, 'Low': 2, 'Medium': 3, 'Traffic Jam': 4}"
            ]
          },
          "metadata": {
            "tags": []
          },
          "execution_count": 18
        }
      ]
    },
    {
      "cell_type": "code",
      "metadata": {
        "colab": {
          "base_uri": "https://localhost:8080/"
        },
        "id": "sJyYpVlBsxeC",
        "outputId": "65becf10-18b6-4414-9479-7756a18039f4"
      },
      "source": [
        "test_datagen = ImageDataGenerator(rescale=1./255)\n",
        "test_generator = test_datagen.flow_from_directory(\n",
        "        r'/mydrive/dataset/Final Dataset/testing',\n",
        "        target_size=(150, 150),\n",
        "        color_mode='rgb',\n",
        "        batch_size=64,\n",
        "        class_mode='categorical',\n",
        "        shuffle=False,\n",
        "        seed=42)\n",
        "\n",
        "test_imgs, test_labels = next(test_generator)"
      ],
      "execution_count": null,
      "outputs": [
        {
          "output_type": "stream",
          "text": [
            "Found 320 images belonging to 5 classes.\n"
          ],
          "name": "stdout"
        }
      ]
    },
    {
      "cell_type": "code",
      "metadata": {
        "colab": {
          "base_uri": "https://localhost:8080/"
        },
        "id": "EQfFIHOysyCi",
        "outputId": "59baf998-9f01-4062-8856-87b67a2dce4c"
      },
      "source": [
        "model = tf.keras.models.load_model('/mydrive/dataset/Transfer Models/ResNet50/Resnet_50.model')\n",
        "predictions = model.predict(x=test_generator, verbose=0)\n",
        "np.round(predictions)"
      ],
      "execution_count": null,
      "outputs": [
        {
          "output_type": "stream",
          "text": [
            "WARNING:tensorflow:SavedModel saved prior to TF 2.5 detected when loading Keras model. Please ensure that you are saving the model with model.save() or tf.keras.models.save_model(), *NOT* tf.saved_model.save(). To confirm, there should be a file named \"keras_metadata.pb\" in the SavedModel directory.\n"
          ],
          "name": "stdout"
        },
        {
          "output_type": "execute_result",
          "data": {
            "text/plain": [
              "array([[1., 0., 0., 0., 0.],\n",
              "       [1., 0., 0., 0., 0.],\n",
              "       [1., 0., 0., 0., 0.],\n",
              "       ...,\n",
              "       [0., 0., 0., 0., 1.],\n",
              "       [0., 0., 0., 0., 1.],\n",
              "       [0., 0., 0., 0., 1.]], dtype=float32)"
            ]
          },
          "metadata": {
            "tags": []
          },
          "execution_count": 11
        }
      ]
    },
    {
      "cell_type": "code",
      "metadata": {
        "id": "ZEhxTqjvs9Pq"
      },
      "source": [
        "import sklearn    \n",
        "from sklearn.metrics import confusion_matrix\n",
        "\n",
        "y_true=test_generator.classes\n",
        "y_pred=np.argmax(predictions, axis=-1)\n",
        "\n",
        "cm = confusion_matrix(y_true, y_pred)"
      ],
      "execution_count": null,
      "outputs": []
    },
    {
      "cell_type": "code",
      "metadata": {
        "colab": {
          "base_uri": "https://localhost:8080/",
          "height": 421
        },
        "id": "fHve_O_Bs_Z6",
        "outputId": "cca3af4b-b0a2-4ca3-9335-17f2fb6f0970"
      },
      "source": [
        "import itertools\n",
        "\n",
        "def plot_confusion_matrix(cm, classes,\n",
        "                          normalize=False,\n",
        "                          cmap=plt.cm.Blues):\n",
        "    plt.imshow(cm, interpolation='nearest', cmap=cmap)\n",
        "    #plt.title(title)\n",
        "    plt.colorbar()\n",
        "    tick_marks = np.arange(len(classes))\n",
        "    plt.xticks(tick_marks, classes, rotation=45)\n",
        "    plt.yticks(tick_marks, classes)\n",
        "\n",
        "    if normalize:\n",
        "        cm = cm.astype('float') / cm.sum(axis=1)[:, np.newaxis]\n",
        "        print(\"Normalized confusion matrix\")\n",
        "    else:\n",
        "        print('Confusion matrix, without normalization')\n",
        "\n",
        "    print(cm)\n",
        "\n",
        "    thresh = cm.max() / 2.\n",
        "    for i, j in itertools.product(range(cm.shape[0]), range(cm.shape[1])):\n",
        "        plt.text(j, i, cm[i, j],\n",
        "            horizontalalignment=\"center\",\n",
        "            color=\"white\" if cm[i, j] > thresh else \"black\")\n",
        "\n",
        "    plt.tight_layout()\n",
        "    plt.ylabel('True label')\n",
        "    plt.xlabel('Predicted label')\n",
        "\n",
        "cm_plot_labels = ['Empty', 'High', 'Low', 'Medium', 'Traffic Jam']\n",
        "plot_confusion_matrix(cm=cm, classes=cm_plot_labels)\n",
        "abc='CM'\n",
        "plt.savefig(f'/mydrive/dataset/SI TL/ResNet50/{abc}.png',bbox_inches=\"tight\",dpi=520)"
      ],
      "execution_count": null,
      "outputs": [
        {
          "output_type": "stream",
          "text": [
            "Confusion matrix, without normalization\n",
            "[[50  0 11  2  1]\n",
            " [ 0 46  0 18  0]\n",
            " [ 2  1 43 17  1]\n",
            " [ 0  9 14 41  0]\n",
            " [ 1 14  0  0 49]]\n"
          ],
          "name": "stdout"
        },
        {
          "output_type": "display_data",
          "data": {
            "image/png": "[encoded data removed]",
            "text/plain": [
              "<Figure size 432x288 with 2 Axes>"
            ]
          },
          "metadata": {
            "tags": [],
            "needs_background": "light"
          }
        }
      ]
    },
    {
      "cell_type": "code",
      "metadata": {
        "colab": {
          "base_uri": "https://localhost:8080/"
        },
        "id": "vG3SlR96tDt-",
        "outputId": "80c71e08-fec6-4ca2-ac59-5780a44d18b1"
      },
      "source": [
        "from sklearn.metrics import accuracy_score\n",
        "\n",
        "print('Prediction Accuracy:', \"{:.2f}\".format(100*accuracy_score(y_true, y_pred))+\"%\")"
      ],
      "execution_count": null,
      "outputs": [
        {
          "output_type": "stream",
          "text": [
            "Prediction Accuracy: 71.56%\n"
          ],
          "name": "stdout"
        }
      ]
    },
    {
      "cell_type": "code",
      "metadata": {
        "colab": {
          "base_uri": "https://localhost:8080/"
        },
        "id": "lxR1UTeotHSV",
        "outputId": "a0d600eb-bd67-45e4-8a37-fecacfcd5a72"
      },
      "source": [
        "from sklearn.metrics import classification_report\n",
        "\n",
        "print(classification_report(y_true, y_pred))"
      ],
      "execution_count": null,
      "outputs": [
        {
          "output_type": "stream",
          "text": [
            "              precision    recall  f1-score   support\n",
            "\n",
            "           0       0.94      0.78      0.85        64\n",
            "           1       0.66      0.72      0.69        64\n",
            "           2       0.63      0.67      0.65        64\n",
            "           3       0.53      0.64      0.58        64\n",
            "           4       0.96      0.77      0.85        64\n",
            "\n",
            "    accuracy                           0.72       320\n",
            "   macro avg       0.74      0.72      0.72       320\n",
            "weighted avg       0.74      0.72      0.72       320\n",
            "\n"
          ],
          "name": "stdout"
        }
      ]
    },
    {
      "cell_type": "code",
      "metadata": {
        "colab": {
          "base_uri": "https://localhost:8080/"
        },
        "id": "opNEV5dStM18",
        "outputId": "8abb8f17-aa9a-458d-bfde-5852fe004797"
      },
      "source": [
        "!pip install scikit-plot"
      ],
      "execution_count": null,
      "outputs": [
        {
          "output_type": "stream",
          "text": [
            "Collecting scikit-plot\n",
            "  Downloading https://files.pythonhosted.org/packages/7c/47/32520e259340c140a4ad27c1b97050dd3254fdc517b1d59974d47037510e/scikit_plot-0.3.7-py3-none-any.whl\n",
            "Requirement already satisfied: scipy>=0.9 in /usr/local/lib/python3.7/dist-packages (from scikit-plot) (1.4.1)\n",
            "Requirement already satisfied: scikit-learn>=0.18 in /usr/local/lib/python3.7/dist-packages (from scikit-plot) (0.22.2.post1)\n",
            "Requirement already satisfied: matplotlib>=1.4.0 in /usr/local/lib/python3.7/dist-packages (from scikit-plot) (3.2.2)\n",
            "Requirement already satisfied: joblib>=0.10 in /usr/local/lib/python3.7/dist-packages (from scikit-plot) (1.0.1)\n",
            "Requirement already satisfied: numpy>=1.13.3 in /usr/local/lib/python3.7/dist-packages (from scipy>=0.9->scikit-plot) (1.19.5)\n",
            "Requirement already satisfied: cycler>=0.10 in /usr/local/lib/python3.7/dist-packages (from matplotlib>=1.4.0->scikit-plot) (0.10.0)\n",
            "Requirement already satisfied: kiwisolver>=1.0.1 in /usr/local/lib/python3.7/dist-packages (from matplotlib>=1.4.0->scikit-plot) (1.3.1)\n",
            "Requirement already satisfied: pyparsing!=2.0.4,!=2.1.2,!=2.1.6,>=2.0.1 in /usr/local/lib/python3.7/dist-packages (from matplotlib>=1.4.0->scikit-plot) (2.4.7)\n",
            "Requirement already satisfied: python-dateutil>=2.1 in /usr/local/lib/python3.7/dist-packages (from matplotlib>=1.4.0->scikit-plot) (2.8.1)\n",
            "Requirement already satisfied: six in /usr/local/lib/python3.7/dist-packages (from cycler>=0.10->matplotlib>=1.4.0->scikit-plot) (1.15.0)\n",
            "Installing collected packages: scikit-plot\n",
            "Successfully installed scikit-plot-0.3.7\n"
          ],
          "name": "stdout"
        }
      ]
    },
    {
      "cell_type": "code",
      "metadata": {
        "colab": {
          "base_uri": "https://localhost:8080/"
        },
        "id": "KsNKLzxDtP_L",
        "outputId": "0ba73af8-c552-4598-f69d-d54228ce6391"
      },
      "source": [
        "import matplotlib.pyplot as plt\n",
        "%matplotlib inline \n",
        "!pip install scikit-plot\n",
        "import scikitplot as skplt\n",
        "from sklearn.metrics import classification_report\n",
        "\n",
        "class_labels = list(test_generator.class_indices.keys())\n",
        "report = classification_report(\n",
        "    y_true,\n",
        "    y_pred,\n",
        "    target_names=class_labels)\n",
        "print(report)"
      ],
      "execution_count": null,
      "outputs": [
        {
          "output_type": "stream",
          "text": [
            "Requirement already satisfied: scikit-plot in /usr/local/lib/python3.7/dist-packages (0.3.7)\n",
            "Requirement already satisfied: scikit-learn>=0.18 in /usr/local/lib/python3.7/dist-packages (from scikit-plot) (0.22.2.post1)\n",
            "Requirement already satisfied: scipy>=0.9 in /usr/local/lib/python3.7/dist-packages (from scikit-plot) (1.4.1)\n",
            "Requirement already satisfied: matplotlib>=1.4.0 in /usr/local/lib/python3.7/dist-packages (from scikit-plot) (3.2.2)\n",
            "Requirement already satisfied: joblib>=0.10 in /usr/local/lib/python3.7/dist-packages (from scikit-plot) (1.0.1)\n",
            "Requirement already satisfied: numpy>=1.11 in /usr/local/lib/python3.7/dist-packages (from matplotlib>=1.4.0->scikit-plot) (1.19.5)\n",
            "Requirement already satisfied: kiwisolver>=1.0.1 in /usr/local/lib/python3.7/dist-packages (from matplotlib>=1.4.0->scikit-plot) (1.3.1)\n",
            "Requirement already satisfied: python-dateutil>=2.1 in /usr/local/lib/python3.7/dist-packages (from matplotlib>=1.4.0->scikit-plot) (2.8.1)\n",
            "Requirement already satisfied: pyparsing!=2.0.4,!=2.1.2,!=2.1.6,>=2.0.1 in /usr/local/lib/python3.7/dist-packages (from matplotlib>=1.4.0->scikit-plot) (2.4.7)\n",
            "Requirement already satisfied: cycler>=0.10 in /usr/local/lib/python3.7/dist-packages (from matplotlib>=1.4.0->scikit-plot) (0.10.0)\n",
            "Requirement already satisfied: six in /usr/local/lib/python3.7/dist-packages (from cycler>=0.10->matplotlib>=1.4.0->scikit-plot) (1.15.0)\n",
            "              precision    recall  f1-score   support\n",
            "\n",
            "       Empty       0.94      0.78      0.85        64\n",
            "        High       0.66      0.72      0.69        64\n",
            "         Low       0.63      0.67      0.65        64\n",
            "      Medium       0.53      0.64      0.58        64\n",
            " Traffic Jam       0.96      0.77      0.85        64\n",
            "\n",
            "    accuracy                           0.72       320\n",
            "   macro avg       0.74      0.72      0.72       320\n",
            "weighted avg       0.74      0.72      0.72       320\n",
            "\n"
          ],
          "name": "stdout"
        }
      ]
    },
    {
      "cell_type": "code",
      "metadata": {
        "colab": {
          "base_uri": "https://localhost:8080/",
          "height": 513
        },
        "id": "Rcw7GZZLtSd_",
        "outputId": "397c621f-7d24-4147-b92d-0f6b4f89950e"
      },
      "source": [
        "skplt.metrics.plot_precision_recall(\n",
        "    y_true,\n",
        "    predictions,\n",
        "    figsize=(8,8))\n",
        "abc='Precision-Recall'\n",
        "plt.savefig(f'/mydrive/dataset/SI TL/ResNet50/{abc}.png',bbox_inches=\"tight\",dpi=520)"
      ],
      "execution_count": null,
      "outputs": [
        {
          "output_type": "display_data",
          "data": {
            "image/png": "[encoded data removed]",
            "text/plain": [
              "<Figure size 576x576 with 1 Axes>"
            ]
          },
          "metadata": {
            "tags": [],
            "needs_background": "light"
          }
        }
      ]
    },
    {
      "cell_type": "code",
      "metadata": {
        "colab": {
          "base_uri": "https://localhost:8080/"
        },
        "id": "a3pIAjUztVLE",
        "outputId": "1b512753-78b3-4190-d9da-184df49066cc"
      },
      "source": [
        "skplt.metrics.plot_roc(\n",
        "    y_true,\n",
        "    predictions,\n",
        "    figsize=(8,8))\n",
        "abc='ROC'\n",
        "plt.savefig(f'/mydrive/dataset/SI TL/ResNet50/{abc}.png',bbox_inches=\"tight\",dpi=520)"
      ],
      "execution_count": null,
      "outputs": [
        {
          "output_type": "display_data",
          "data": {
            "image/png": "[encoded data removed]",
            "text/plain": [
              "<Figure size 576x576 with 1 Axes>"
            ]
          },
          "metadata": {
            "tags": [],
            "needs_background": "light"
          }
        }
      ]
    },
    {
      "cell_type": "code",
      "metadata": {
        "colab": {
          "base_uri": "https://localhost:8080/"
        },
        "id": "dKAlgCDdtrxN",
        "outputId": "81327c7f-5015-4de8-ad93-37df0fe1067e"
      },
      "source": [
        "from keras.utils import to_categorical\n",
        "\n",
        "val= to_categorical(test_generator.classes)\n",
        "print(val)"
      ],
      "execution_count": null,
      "outputs": [
        {
          "output_type": "stream",
          "text": [
            "[[1. 0. 0. 0. 0.]\n",
            " [1. 0. 0. 0. 0.]\n",
            " [1. 0. 0. 0. 0.]\n",
            " ...\n",
            " [0. 0. 0. 0. 1.]\n",
            " [0. 0. 0. 0. 1.]\n",
            " [0. 0. 0. 0. 1.]]\n"
          ],
          "name": "stdout"
        }
      ]
    },
    {
      "cell_type": "code",
      "metadata": {
        "colab": {
          "base_uri": "https://localhost:8080/"
        },
        "id": "f1H1zdCStsmt",
        "outputId": "a2969891-0300-4927-b89a-419bc7e54482"
      },
      "source": [
        "def top_n_accuracy(preds, truths, n):\n",
        "    best_n = np.argsort(preds, axis=-1)[:,-n:]\n",
        "    ts = np.argmax(truths, axis=1)\n",
        "    successes = 0\n",
        "    for i in range(ts.shape[0]):\n",
        "      if ts[i] in best_n[i,:]:\n",
        "        successes += 1\n",
        "    return float(successes)/ts.shape[0]\n",
        "\n",
        "print('Top 2 Accuracy:', \"{:.2f}\".format(100*top_n_accuracy(preds=predictions, truths=val, n=2))+\"%\")"
      ],
      "execution_count": null,
      "outputs": [
        {
          "output_type": "stream",
          "text": [
            "Top 2 Accuracy: 95.00%\n"
          ],
          "name": "stdout"
        }
      ]
    },
    {
      "cell_type": "code",
      "metadata": {
        "id": "k8lQb4qiuSTN"
      },
      "source": [
        ""
      ],
      "execution_count": null,
      "outputs": []
    }
  ]
}